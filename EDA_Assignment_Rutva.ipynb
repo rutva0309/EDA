{
 "cells": [
  {
   "cell_type": "code",
   "execution_count": 1,
   "id": "def21807",
   "metadata": {},
   "outputs": [],
   "source": [
    "#Importing the libraries\n",
    "import matplotlib.pyplot as plt\n",
    "import pandas as pd\n",
    "import numpy as np\n",
    "import seaborn as sns\n",
    "import re\n",
    "import string\n",
    "import math\n",
    "import nltk\n",
    "from nltk.corpus import stopwords\n",
    "import contractions\n",
    "import inflect\n",
    "from nltk.corpus import stopwords\n",
    "from nltk.stem import LancasterStemmer, WordNetLemmatizer\n",
    "from bs4 import BeautifulSoup\n",
    "import re, string, unicodedata\n",
    "from collections import  Counter\n",
    "import spacy\n",
    "from operator import itemgetter\n",
    "from wordcloud import WordCloud, STOPWORDS, ImageColorGenerator"
   ]
  },
  {
   "cell_type": "code",
   "execution_count": 2,
   "id": "a6e56c5a",
   "metadata": {},
   "outputs": [
    {
     "data": {
      "text/html": [
       "<div>\n",
       "<style scoped>\n",
       "    .dataframe tbody tr th:only-of-type {\n",
       "        vertical-align: middle;\n",
       "    }\n",
       "\n",
       "    .dataframe tbody tr th {\n",
       "        vertical-align: top;\n",
       "    }\n",
       "\n",
       "    .dataframe thead th {\n",
       "        text-align: right;\n",
       "    }\n",
       "</style>\n",
       "<table border=\"1\" class=\"dataframe\">\n",
       "  <thead>\n",
       "    <tr style=\"text-align: right;\">\n",
       "      <th></th>\n",
       "      <th>tweet_id</th>\n",
       "      <th>author_id</th>\n",
       "      <th>inbound</th>\n",
       "      <th>created_at</th>\n",
       "      <th>text</th>\n",
       "      <th>response_tweet_id</th>\n",
       "      <th>in_response_to_tweet_id</th>\n",
       "    </tr>\n",
       "  </thead>\n",
       "  <tbody>\n",
       "    <tr>\n",
       "      <th>0</th>\n",
       "      <td>119237</td>\n",
       "      <td>105834</td>\n",
       "      <td>True</td>\n",
       "      <td>Wed Oct 11 06:55:44 +0000 2017</td>\n",
       "      <td>@AppleSupport causing the reply to be disregar...</td>\n",
       "      <td>119236</td>\n",
       "      <td>NaN</td>\n",
       "    </tr>\n",
       "    <tr>\n",
       "      <th>1</th>\n",
       "      <td>119238</td>\n",
       "      <td>ChaseSupport</td>\n",
       "      <td>False</td>\n",
       "      <td>Wed Oct 11 13:25:49 +0000 2017</td>\n",
       "      <td>@105835 Your business means a lot to us. Pleas...</td>\n",
       "      <td>NaN</td>\n",
       "      <td>119239.0</td>\n",
       "    </tr>\n",
       "    <tr>\n",
       "      <th>2</th>\n",
       "      <td>119239</td>\n",
       "      <td>105835</td>\n",
       "      <td>True</td>\n",
       "      <td>Wed Oct 11 13:00:09 +0000 2017</td>\n",
       "      <td>@76328 I really hope you all change but I'm su...</td>\n",
       "      <td>119238</td>\n",
       "      <td>NaN</td>\n",
       "    </tr>\n",
       "    <tr>\n",
       "      <th>3</th>\n",
       "      <td>119240</td>\n",
       "      <td>VirginTrains</td>\n",
       "      <td>False</td>\n",
       "      <td>Tue Oct 10 15:16:08 +0000 2017</td>\n",
       "      <td>@105836 LiveChat is online at the moment - htt...</td>\n",
       "      <td>119241</td>\n",
       "      <td>119242.0</td>\n",
       "    </tr>\n",
       "    <tr>\n",
       "      <th>4</th>\n",
       "      <td>119241</td>\n",
       "      <td>105836</td>\n",
       "      <td>True</td>\n",
       "      <td>Tue Oct 10 15:17:21 +0000 2017</td>\n",
       "      <td>@VirginTrains see attached error message. I've...</td>\n",
       "      <td>119243</td>\n",
       "      <td>119240.0</td>\n",
       "    </tr>\n",
       "    <tr>\n",
       "      <th>...</th>\n",
       "      <td>...</td>\n",
       "      <td>...</td>\n",
       "      <td>...</td>\n",
       "      <td>...</td>\n",
       "      <td>...</td>\n",
       "      <td>...</td>\n",
       "      <td>...</td>\n",
       "    </tr>\n",
       "    <tr>\n",
       "      <th>88</th>\n",
       "      <td>119330</td>\n",
       "      <td>105859</td>\n",
       "      <td>True</td>\n",
       "      <td>Wed Oct 11 13:50:42 +0000 2017</td>\n",
       "      <td>@105860 I wish Amazon had an option of where I...</td>\n",
       "      <td>119329</td>\n",
       "      <td>119331.0</td>\n",
       "    </tr>\n",
       "    <tr>\n",
       "      <th>89</th>\n",
       "      <td>119331</td>\n",
       "      <td>105860</td>\n",
       "      <td>True</td>\n",
       "      <td>Wed Oct 11 13:47:14 +0000 2017</td>\n",
       "      <td>They reschedule my shit for tomorrow https://t...</td>\n",
       "      <td>119330</td>\n",
       "      <td>NaN</td>\n",
       "    </tr>\n",
       "    <tr>\n",
       "      <th>90</th>\n",
       "      <td>119332</td>\n",
       "      <td>Tesco</td>\n",
       "      <td>False</td>\n",
       "      <td>Wed Oct 11 13:34:06 +0000 2017</td>\n",
       "      <td>@105861 Hey Sara, sorry to hear of the issues ...</td>\n",
       "      <td>119333</td>\n",
       "      <td>119334.0</td>\n",
       "    </tr>\n",
       "    <tr>\n",
       "      <th>91</th>\n",
       "      <td>119333</td>\n",
       "      <td>105861</td>\n",
       "      <td>True</td>\n",
       "      <td>Wed Oct 11 14:05:18 +0000 2017</td>\n",
       "      <td>@Tesco bit of both - finding the layout cumber...</td>\n",
       "      <td>119335,119336</td>\n",
       "      <td>119332.0</td>\n",
       "    </tr>\n",
       "    <tr>\n",
       "      <th>92</th>\n",
       "      <td>119335</td>\n",
       "      <td>Tesco</td>\n",
       "      <td>False</td>\n",
       "      <td>Wed Oct 11 15:38:07 +0000 2017</td>\n",
       "      <td>@105861 If that doesn't help please DM your fu...</td>\n",
       "      <td>NaN</td>\n",
       "      <td>119333.0</td>\n",
       "    </tr>\n",
       "  </tbody>\n",
       "</table>\n",
       "<p>93 rows × 7 columns</p>\n",
       "</div>"
      ],
      "text/plain": [
       "    tweet_id     author_id  inbound                      created_at  \\\n",
       "0     119237        105834     True  Wed Oct 11 06:55:44 +0000 2017   \n",
       "1     119238  ChaseSupport    False  Wed Oct 11 13:25:49 +0000 2017   \n",
       "2     119239        105835     True  Wed Oct 11 13:00:09 +0000 2017   \n",
       "3     119240  VirginTrains    False  Tue Oct 10 15:16:08 +0000 2017   \n",
       "4     119241        105836     True  Tue Oct 10 15:17:21 +0000 2017   \n",
       "..       ...           ...      ...                             ...   \n",
       "88    119330        105859     True  Wed Oct 11 13:50:42 +0000 2017   \n",
       "89    119331        105860     True  Wed Oct 11 13:47:14 +0000 2017   \n",
       "90    119332         Tesco    False  Wed Oct 11 13:34:06 +0000 2017   \n",
       "91    119333        105861     True  Wed Oct 11 14:05:18 +0000 2017   \n",
       "92    119335         Tesco    False  Wed Oct 11 15:38:07 +0000 2017   \n",
       "\n",
       "                                                 text response_tweet_id  \\\n",
       "0   @AppleSupport causing the reply to be disregar...            119236   \n",
       "1   @105835 Your business means a lot to us. Pleas...               NaN   \n",
       "2   @76328 I really hope you all change but I'm su...            119238   \n",
       "3   @105836 LiveChat is online at the moment - htt...            119241   \n",
       "4   @VirginTrains see attached error message. I've...            119243   \n",
       "..                                                ...               ...   \n",
       "88  @105860 I wish Amazon had an option of where I...            119329   \n",
       "89  They reschedule my shit for tomorrow https://t...            119330   \n",
       "90  @105861 Hey Sara, sorry to hear of the issues ...            119333   \n",
       "91  @Tesco bit of both - finding the layout cumber...     119335,119336   \n",
       "92  @105861 If that doesn't help please DM your fu...               NaN   \n",
       "\n",
       "    in_response_to_tweet_id  \n",
       "0                       NaN  \n",
       "1                  119239.0  \n",
       "2                       NaN  \n",
       "3                  119242.0  \n",
       "4                  119240.0  \n",
       "..                      ...  \n",
       "88                 119331.0  \n",
       "89                      NaN  \n",
       "90                 119334.0  \n",
       "91                 119332.0  \n",
       "92                 119333.0  \n",
       "\n",
       "[93 rows x 7 columns]"
      ]
     },
     "execution_count": 2,
     "metadata": {},
     "output_type": "execute_result"
    }
   ],
   "source": [
    "#Reading the Data\n",
    "data = pd.read_csv(\"EDA_assignment.csv\")\n",
    "data"
   ]
  },
  {
   "cell_type": "code",
   "execution_count": 3,
   "id": "5992399f",
   "metadata": {},
   "outputs": [
    {
     "data": {
      "text/html": [
       "<div>\n",
       "<style scoped>\n",
       "    .dataframe tbody tr th:only-of-type {\n",
       "        vertical-align: middle;\n",
       "    }\n",
       "\n",
       "    .dataframe tbody tr th {\n",
       "        vertical-align: top;\n",
       "    }\n",
       "\n",
       "    .dataframe thead th {\n",
       "        text-align: right;\n",
       "    }\n",
       "</style>\n",
       "<table border=\"1\" class=\"dataframe\">\n",
       "  <thead>\n",
       "    <tr style=\"text-align: right;\">\n",
       "      <th></th>\n",
       "      <th>tweet_id</th>\n",
       "      <th>author_id</th>\n",
       "      <th>inbound</th>\n",
       "      <th>created_at</th>\n",
       "      <th>text</th>\n",
       "      <th>response_tweet_id</th>\n",
       "      <th>in_response_to_tweet_id</th>\n",
       "    </tr>\n",
       "  </thead>\n",
       "  <tbody>\n",
       "    <tr>\n",
       "      <th>25</th>\n",
       "      <td>119264</td>\n",
       "      <td>British_Airways</td>\n",
       "      <td>False</td>\n",
       "      <td>Wed Oct 11 13:36:31 +0000 2017</td>\n",
       "      <td>@105842 We're sorry your flight has been delay...</td>\n",
       "      <td>NaN</td>\n",
       "      <td>119265.0</td>\n",
       "    </tr>\n",
       "    <tr>\n",
       "      <th>62</th>\n",
       "      <td>119266</td>\n",
       "      <td>British_Airways</td>\n",
       "      <td>False</td>\n",
       "      <td>Wed Oct 11 13:37:15 +0000 2017</td>\n",
       "      <td>@105842 I appreciate it's after 15:30 now, so ...</td>\n",
       "      <td>119302</td>\n",
       "      <td>119265.0</td>\n",
       "    </tr>\n",
       "    <tr>\n",
       "      <th>64</th>\n",
       "      <td>119303</td>\n",
       "      <td>British_Airways</td>\n",
       "      <td>False</td>\n",
       "      <td>Wed Oct 11 16:28:34 +0000 2017</td>\n",
       "      <td>@105842 Very sorry to hear this.  We hope you ...</td>\n",
       "      <td>NaN</td>\n",
       "      <td>119302.0</td>\n",
       "    </tr>\n",
       "  </tbody>\n",
       "</table>\n",
       "</div>"
      ],
      "text/plain": [
       "    tweet_id        author_id  inbound                      created_at  \\\n",
       "25    119264  British_Airways    False  Wed Oct 11 13:36:31 +0000 2017   \n",
       "62    119266  British_Airways    False  Wed Oct 11 13:37:15 +0000 2017   \n",
       "64    119303  British_Airways    False  Wed Oct 11 16:28:34 +0000 2017   \n",
       "\n",
       "                                                 text response_tweet_id  \\\n",
       "25  @105842 We're sorry your flight has been delay...               NaN   \n",
       "62  @105842 I appreciate it's after 15:30 now, so ...            119302   \n",
       "64  @105842 Very sorry to hear this.  We hope you ...               NaN   \n",
       "\n",
       "    in_response_to_tweet_id  \n",
       "25                 119265.0  \n",
       "62                 119265.0  \n",
       "64                 119302.0  "
      ]
     },
     "execution_count": 3,
     "metadata": {},
     "output_type": "execute_result"
    }
   ],
   "source": [
    "#Applying Filter based conditions\n",
    "data[(data['author_id']==\"British_Airways\")]"
   ]
  },
  {
   "cell_type": "code",
   "execution_count": 4,
   "id": "5b66a972",
   "metadata": {},
   "outputs": [
    {
     "data": {
      "text/html": [
       "<div>\n",
       "<style scoped>\n",
       "    .dataframe tbody tr th:only-of-type {\n",
       "        vertical-align: middle;\n",
       "    }\n",
       "\n",
       "    .dataframe tbody tr th {\n",
       "        vertical-align: top;\n",
       "    }\n",
       "\n",
       "    .dataframe thead th {\n",
       "        text-align: right;\n",
       "    }\n",
       "</style>\n",
       "<table border=\"1\" class=\"dataframe\">\n",
       "  <thead>\n",
       "    <tr style=\"text-align: right;\">\n",
       "      <th></th>\n",
       "      <th>tweet_id</th>\n",
       "      <th>author_id</th>\n",
       "      <th>inbound</th>\n",
       "      <th>created_at</th>\n",
       "      <th>text</th>\n",
       "      <th>response_tweet_id</th>\n",
       "      <th>in_response_to_tweet_id</th>\n",
       "    </tr>\n",
       "  </thead>\n",
       "  <tbody>\n",
       "    <tr>\n",
       "      <th>3</th>\n",
       "      <td>119240</td>\n",
       "      <td>VirginTrains</td>\n",
       "      <td>False</td>\n",
       "      <td>Tue Oct 10 15:16:08 +0000 2017</td>\n",
       "      <td>@105836 LiveChat is online at the moment - htt...</td>\n",
       "      <td>119241</td>\n",
       "      <td>119242.0</td>\n",
       "    </tr>\n",
       "    <tr>\n",
       "      <th>5</th>\n",
       "      <td>119243</td>\n",
       "      <td>VirginTrains</td>\n",
       "      <td>False</td>\n",
       "      <td>Tue Oct 10 15:25:14 +0000 2017</td>\n",
       "      <td>@105836 Have you tried from another device, Mi...</td>\n",
       "      <td>119244</td>\n",
       "      <td>119241.0</td>\n",
       "    </tr>\n",
       "    <tr>\n",
       "      <th>7</th>\n",
       "      <td>119245</td>\n",
       "      <td>VirginTrains</td>\n",
       "      <td>False</td>\n",
       "      <td>Tue Oct 10 15:33:22 +0000 2017</td>\n",
       "      <td>@105836 It's working OK from here, Miriam. Doe...</td>\n",
       "      <td>NaN</td>\n",
       "      <td>119244.0</td>\n",
       "    </tr>\n",
       "    <tr>\n",
       "      <th>9</th>\n",
       "      <td>119246</td>\n",
       "      <td>VirginTrains</td>\n",
       "      <td>False</td>\n",
       "      <td>Tue Oct 10 10:13:19 +0000 2017</td>\n",
       "      <td>@105836 That's what we're here for Miriam 😊  T...</td>\n",
       "      <td>119242</td>\n",
       "      <td>119247.0</td>\n",
       "    </tr>\n",
       "  </tbody>\n",
       "</table>\n",
       "</div>"
      ],
      "text/plain": [
       "   tweet_id     author_id  inbound                      created_at  \\\n",
       "3    119240  VirginTrains    False  Tue Oct 10 15:16:08 +0000 2017   \n",
       "5    119243  VirginTrains    False  Tue Oct 10 15:25:14 +0000 2017   \n",
       "7    119245  VirginTrains    False  Tue Oct 10 15:33:22 +0000 2017   \n",
       "9    119246  VirginTrains    False  Tue Oct 10 10:13:19 +0000 2017   \n",
       "\n",
       "                                                text response_tweet_id  \\\n",
       "3  @105836 LiveChat is online at the moment - htt...            119241   \n",
       "5  @105836 Have you tried from another device, Mi...            119244   \n",
       "7  @105836 It's working OK from here, Miriam. Doe...               NaN   \n",
       "9  @105836 That's what we're here for Miriam 😊  T...            119242   \n",
       "\n",
       "   in_response_to_tweet_id  \n",
       "3                 119242.0  \n",
       "5                 119241.0  \n",
       "7                 119244.0  \n",
       "9                 119247.0  "
      ]
     },
     "execution_count": 4,
     "metadata": {},
     "output_type": "execute_result"
    }
   ],
   "source": [
    "#Applying Filter based conditions\n",
    "data[(data['author_id']==\"VirginTrains\")]"
   ]
  },
  {
   "cell_type": "code",
   "execution_count": 5,
   "id": "8058e02a",
   "metadata": {},
   "outputs": [
    {
     "data": {
      "text/html": [
       "<div>\n",
       "<style scoped>\n",
       "    .dataframe tbody tr th:only-of-type {\n",
       "        vertical-align: middle;\n",
       "    }\n",
       "\n",
       "    .dataframe tbody tr th {\n",
       "        vertical-align: top;\n",
       "    }\n",
       "\n",
       "    .dataframe thead th {\n",
       "        text-align: right;\n",
       "    }\n",
       "</style>\n",
       "<table border=\"1\" class=\"dataframe\">\n",
       "  <thead>\n",
       "    <tr style=\"text-align: right;\">\n",
       "      <th></th>\n",
       "      <th>tweet_id</th>\n",
       "      <th>author_id</th>\n",
       "      <th>inbound</th>\n",
       "      <th>created_at</th>\n",
       "      <th>text</th>\n",
       "      <th>response_tweet_id</th>\n",
       "      <th>in_response_to_tweet_id</th>\n",
       "    </tr>\n",
       "  </thead>\n",
       "  <tbody>\n",
       "    <tr>\n",
       "      <th>68</th>\n",
       "      <td>119308</td>\n",
       "      <td>Tesco</td>\n",
       "      <td>False</td>\n",
       "      <td>Wed Oct 11 13:33:07 +0000 2017</td>\n",
       "      <td>@105855 Hi Thomas, if a colleague believes the...</td>\n",
       "      <td>119309</td>\n",
       "      <td>119310.0</td>\n",
       "    </tr>\n",
       "    <tr>\n",
       "      <th>71</th>\n",
       "      <td>119311</td>\n",
       "      <td>Tesco</td>\n",
       "      <td>False</td>\n",
       "      <td>Wed Oct 11 13:28:34 +0000 2017</td>\n",
       "      <td>@105855 Hi Thomas, this is correct but this he...</td>\n",
       "      <td>119310,119312</td>\n",
       "      <td>119313.0</td>\n",
       "    </tr>\n",
       "    <tr>\n",
       "      <th>73</th>\n",
       "      <td>119314</td>\n",
       "      <td>Tesco</td>\n",
       "      <td>False</td>\n",
       "      <td>Wed Oct 11 12:17:02 +0000 2017</td>\n",
       "      <td>@105855 Hi Thomas, we operate a Think 25 polic...</td>\n",
       "      <td>119313</td>\n",
       "      <td>119315.0</td>\n",
       "    </tr>\n",
       "    <tr>\n",
       "      <th>75</th>\n",
       "      <td>119317</td>\n",
       "      <td>Tesco</td>\n",
       "      <td>False</td>\n",
       "      <td>Wed Oct 11 13:42:19 +0000 2017</td>\n",
       "      <td>@105856 Hi there, could you try deleting your ...</td>\n",
       "      <td>119318</td>\n",
       "      <td>119319.0</td>\n",
       "    </tr>\n",
       "    <tr>\n",
       "      <th>77</th>\n",
       "      <td>119320</td>\n",
       "      <td>Tesco</td>\n",
       "      <td>False</td>\n",
       "      <td>Wed Oct 11 13:45:00 +0000 2017</td>\n",
       "      <td>@105856 Hi there, as long as you sign out of y...</td>\n",
       "      <td>119321</td>\n",
       "      <td>119318.0</td>\n",
       "    </tr>\n",
       "    <tr>\n",
       "      <th>79</th>\n",
       "      <td>119322</td>\n",
       "      <td>Tesco</td>\n",
       "      <td>False</td>\n",
       "      <td>Wed Oct 11 13:49:29 +0000 2017</td>\n",
       "      <td>@105856 Can you DM me your full name, address ...</td>\n",
       "      <td>NaN</td>\n",
       "      <td>119321.0</td>\n",
       "    </tr>\n",
       "    <tr>\n",
       "      <th>90</th>\n",
       "      <td>119332</td>\n",
       "      <td>Tesco</td>\n",
       "      <td>False</td>\n",
       "      <td>Wed Oct 11 13:34:06 +0000 2017</td>\n",
       "      <td>@105861 Hey Sara, sorry to hear of the issues ...</td>\n",
       "      <td>119333</td>\n",
       "      <td>119334.0</td>\n",
       "    </tr>\n",
       "    <tr>\n",
       "      <th>92</th>\n",
       "      <td>119335</td>\n",
       "      <td>Tesco</td>\n",
       "      <td>False</td>\n",
       "      <td>Wed Oct 11 15:38:07 +0000 2017</td>\n",
       "      <td>@105861 If that doesn't help please DM your fu...</td>\n",
       "      <td>NaN</td>\n",
       "      <td>119333.0</td>\n",
       "    </tr>\n",
       "  </tbody>\n",
       "</table>\n",
       "</div>"
      ],
      "text/plain": [
       "    tweet_id author_id  inbound                      created_at  \\\n",
       "68    119308     Tesco    False  Wed Oct 11 13:33:07 +0000 2017   \n",
       "71    119311     Tesco    False  Wed Oct 11 13:28:34 +0000 2017   \n",
       "73    119314     Tesco    False  Wed Oct 11 12:17:02 +0000 2017   \n",
       "75    119317     Tesco    False  Wed Oct 11 13:42:19 +0000 2017   \n",
       "77    119320     Tesco    False  Wed Oct 11 13:45:00 +0000 2017   \n",
       "79    119322     Tesco    False  Wed Oct 11 13:49:29 +0000 2017   \n",
       "90    119332     Tesco    False  Wed Oct 11 13:34:06 +0000 2017   \n",
       "92    119335     Tesco    False  Wed Oct 11 15:38:07 +0000 2017   \n",
       "\n",
       "                                                 text response_tweet_id  \\\n",
       "68  @105855 Hi Thomas, if a colleague believes the...            119309   \n",
       "71  @105855 Hi Thomas, this is correct but this he...     119310,119312   \n",
       "73  @105855 Hi Thomas, we operate a Think 25 polic...            119313   \n",
       "75  @105856 Hi there, could you try deleting your ...            119318   \n",
       "77  @105856 Hi there, as long as you sign out of y...            119321   \n",
       "79  @105856 Can you DM me your full name, address ...               NaN   \n",
       "90  @105861 Hey Sara, sorry to hear of the issues ...            119333   \n",
       "92  @105861 If that doesn't help please DM your fu...               NaN   \n",
       "\n",
       "    in_response_to_tweet_id  \n",
       "68                 119310.0  \n",
       "71                 119313.0  \n",
       "73                 119315.0  \n",
       "75                 119319.0  \n",
       "77                 119318.0  \n",
       "79                 119321.0  \n",
       "90                 119334.0  \n",
       "92                 119333.0  "
      ]
     },
     "execution_count": 5,
     "metadata": {},
     "output_type": "execute_result"
    }
   ],
   "source": [
    "#Applying Filter based conditions\n",
    "data[(data['author_id']==\"Tesco\")]"
   ]
  },
  {
   "cell_type": "code",
   "execution_count": 6,
   "id": "15f6d53a",
   "metadata": {},
   "outputs": [
    {
     "data": {
      "text/html": [
       "<div>\n",
       "<style scoped>\n",
       "    .dataframe tbody tr th:only-of-type {\n",
       "        vertical-align: middle;\n",
       "    }\n",
       "\n",
       "    .dataframe tbody tr th {\n",
       "        vertical-align: top;\n",
       "    }\n",
       "\n",
       "    .dataframe thead th {\n",
       "        text-align: right;\n",
       "    }\n",
       "</style>\n",
       "<table border=\"1\" class=\"dataframe\">\n",
       "  <thead>\n",
       "    <tr style=\"text-align: right;\">\n",
       "      <th></th>\n",
       "      <th>tweet_id</th>\n",
       "      <th>author_id</th>\n",
       "      <th>inbound</th>\n",
       "      <th>created_at</th>\n",
       "      <th>text</th>\n",
       "      <th>response_tweet_id</th>\n",
       "      <th>in_response_to_tweet_id</th>\n",
       "    </tr>\n",
       "  </thead>\n",
       "  <tbody>\n",
       "    <tr>\n",
       "      <th>1</th>\n",
       "      <td>119238</td>\n",
       "      <td>ChaseSupport</td>\n",
       "      <td>False</td>\n",
       "      <td>Wed Oct 11 13:25:49 +0000 2017</td>\n",
       "      <td>@105835 Your business means a lot to us. Pleas...</td>\n",
       "      <td>NaN</td>\n",
       "      <td>119239.0</td>\n",
       "    </tr>\n",
       "  </tbody>\n",
       "</table>\n",
       "</div>"
      ],
      "text/plain": [
       "   tweet_id     author_id  inbound                      created_at  \\\n",
       "1    119238  ChaseSupport    False  Wed Oct 11 13:25:49 +0000 2017   \n",
       "\n",
       "                                                text response_tweet_id  \\\n",
       "1  @105835 Your business means a lot to us. Pleas...               NaN   \n",
       "\n",
       "   in_response_to_tweet_id  \n",
       "1                 119239.0  "
      ]
     },
     "execution_count": 6,
     "metadata": {},
     "output_type": "execute_result"
    }
   ],
   "source": [
    "#Applying Filter based conditions\n",
    "data[(data['author_id']==\"ChaseSupport\")]"
   ]
  },
  {
   "cell_type": "code",
   "execution_count": 7,
   "id": "56188722",
   "metadata": {},
   "outputs": [
    {
     "data": {
      "text/plain": [
       "(93, 7)"
      ]
     },
     "execution_count": 7,
     "metadata": {},
     "output_type": "execute_result"
    }
   ],
   "source": [
    "#Shape of the Data\n",
    "data.shape"
   ]
  },
  {
   "cell_type": "code",
   "execution_count": 8,
   "id": "adeb7899",
   "metadata": {},
   "outputs": [
    {
     "name": "stdout",
     "output_type": "stream",
     "text": [
      "<class 'pandas.core.frame.DataFrame'>\n",
      "RangeIndex: 93 entries, 0 to 92\n",
      "Data columns (total 7 columns):\n",
      " #   Column                   Non-Null Count  Dtype  \n",
      "---  ------                   --------------  -----  \n",
      " 0   tweet_id                 93 non-null     int64  \n",
      " 1   author_id                93 non-null     object \n",
      " 2   inbound                  93 non-null     bool   \n",
      " 3   created_at               93 non-null     object \n",
      " 4   text                     93 non-null     object \n",
      " 5   response_tweet_id        65 non-null     object \n",
      " 6   in_response_to_tweet_id  68 non-null     float64\n",
      "dtypes: bool(1), float64(1), int64(1), object(4)\n",
      "memory usage: 4.6+ KB\n"
     ]
    }
   ],
   "source": [
    "#Information of the Data\n",
    "data.info()"
   ]
  },
  {
   "cell_type": "code",
   "execution_count": 9,
   "id": "05946d4c",
   "metadata": {},
   "outputs": [
    {
     "data": {
      "text/html": [
       "<div>\n",
       "<style scoped>\n",
       "    .dataframe tbody tr th:only-of-type {\n",
       "        vertical-align: middle;\n",
       "    }\n",
       "\n",
       "    .dataframe tbody tr th {\n",
       "        vertical-align: top;\n",
       "    }\n",
       "\n",
       "    .dataframe thead th {\n",
       "        text-align: right;\n",
       "    }\n",
       "</style>\n",
       "<table border=\"1\" class=\"dataframe\">\n",
       "  <thead>\n",
       "    <tr style=\"text-align: right;\">\n",
       "      <th></th>\n",
       "      <th>tweet_id</th>\n",
       "      <th>in_response_to_tweet_id</th>\n",
       "    </tr>\n",
       "  </thead>\n",
       "  <tbody>\n",
       "    <tr>\n",
       "      <th>count</th>\n",
       "      <td>93.000000</td>\n",
       "      <td>68.000000</td>\n",
       "    </tr>\n",
       "    <tr>\n",
       "      <th>mean</th>\n",
       "      <td>119285.451613</td>\n",
       "      <td>119285.676471</td>\n",
       "    </tr>\n",
       "    <tr>\n",
       "      <th>std</th>\n",
       "      <td>28.314045</td>\n",
       "      <td>28.910795</td>\n",
       "    </tr>\n",
       "    <tr>\n",
       "      <th>min</th>\n",
       "      <td>119237.000000</td>\n",
       "      <td>119239.000000</td>\n",
       "    </tr>\n",
       "    <tr>\n",
       "      <th>25%</th>\n",
       "      <td>119262.000000</td>\n",
       "      <td>119259.750000</td>\n",
       "    </tr>\n",
       "    <tr>\n",
       "      <th>50%</th>\n",
       "      <td>119285.000000</td>\n",
       "      <td>119284.500000</td>\n",
       "    </tr>\n",
       "    <tr>\n",
       "      <th>75%</th>\n",
       "      <td>119309.000000</td>\n",
       "      <td>119311.500000</td>\n",
       "    </tr>\n",
       "    <tr>\n",
       "      <th>max</th>\n",
       "      <td>119335.000000</td>\n",
       "      <td>119334.000000</td>\n",
       "    </tr>\n",
       "  </tbody>\n",
       "</table>\n",
       "</div>"
      ],
      "text/plain": [
       "            tweet_id  in_response_to_tweet_id\n",
       "count      93.000000                68.000000\n",
       "mean   119285.451613            119285.676471\n",
       "std        28.314045                28.910795\n",
       "min    119237.000000            119239.000000\n",
       "25%    119262.000000            119259.750000\n",
       "50%    119285.000000            119284.500000\n",
       "75%    119309.000000            119311.500000\n",
       "max    119335.000000            119334.000000"
      ]
     },
     "execution_count": 9,
     "metadata": {},
     "output_type": "execute_result"
    }
   ],
   "source": [
    "#Describing the Data\n",
    "data.describe()"
   ]
  },
  {
   "cell_type": "code",
   "execution_count": 10,
   "id": "d6728f23",
   "metadata": {},
   "outputs": [
    {
     "data": {
      "text/html": [
       "<div>\n",
       "<style scoped>\n",
       "    .dataframe tbody tr th:only-of-type {\n",
       "        vertical-align: middle;\n",
       "    }\n",
       "\n",
       "    .dataframe tbody tr th {\n",
       "        vertical-align: top;\n",
       "    }\n",
       "\n",
       "    .dataframe thead th {\n",
       "        text-align: right;\n",
       "    }\n",
       "</style>\n",
       "<table border=\"1\" class=\"dataframe\">\n",
       "  <thead>\n",
       "    <tr style=\"text-align: right;\">\n",
       "      <th></th>\n",
       "      <th>tweet_id</th>\n",
       "      <th>author_id</th>\n",
       "      <th>inbound</th>\n",
       "      <th>created_at</th>\n",
       "      <th>text</th>\n",
       "      <th>response_tweet_id</th>\n",
       "      <th>in_response_to_tweet_id</th>\n",
       "    </tr>\n",
       "  </thead>\n",
       "  <tbody>\n",
       "    <tr>\n",
       "      <th>0</th>\n",
       "      <td>False</td>\n",
       "      <td>False</td>\n",
       "      <td>False</td>\n",
       "      <td>False</td>\n",
       "      <td>False</td>\n",
       "      <td>False</td>\n",
       "      <td>True</td>\n",
       "    </tr>\n",
       "    <tr>\n",
       "      <th>1</th>\n",
       "      <td>False</td>\n",
       "      <td>False</td>\n",
       "      <td>False</td>\n",
       "      <td>False</td>\n",
       "      <td>False</td>\n",
       "      <td>True</td>\n",
       "      <td>False</td>\n",
       "    </tr>\n",
       "    <tr>\n",
       "      <th>2</th>\n",
       "      <td>False</td>\n",
       "      <td>False</td>\n",
       "      <td>False</td>\n",
       "      <td>False</td>\n",
       "      <td>False</td>\n",
       "      <td>False</td>\n",
       "      <td>True</td>\n",
       "    </tr>\n",
       "    <tr>\n",
       "      <th>3</th>\n",
       "      <td>False</td>\n",
       "      <td>False</td>\n",
       "      <td>False</td>\n",
       "      <td>False</td>\n",
       "      <td>False</td>\n",
       "      <td>False</td>\n",
       "      <td>False</td>\n",
       "    </tr>\n",
       "    <tr>\n",
       "      <th>4</th>\n",
       "      <td>False</td>\n",
       "      <td>False</td>\n",
       "      <td>False</td>\n",
       "      <td>False</td>\n",
       "      <td>False</td>\n",
       "      <td>False</td>\n",
       "      <td>False</td>\n",
       "    </tr>\n",
       "    <tr>\n",
       "      <th>...</th>\n",
       "      <td>...</td>\n",
       "      <td>...</td>\n",
       "      <td>...</td>\n",
       "      <td>...</td>\n",
       "      <td>...</td>\n",
       "      <td>...</td>\n",
       "      <td>...</td>\n",
       "    </tr>\n",
       "    <tr>\n",
       "      <th>88</th>\n",
       "      <td>False</td>\n",
       "      <td>False</td>\n",
       "      <td>False</td>\n",
       "      <td>False</td>\n",
       "      <td>False</td>\n",
       "      <td>False</td>\n",
       "      <td>False</td>\n",
       "    </tr>\n",
       "    <tr>\n",
       "      <th>89</th>\n",
       "      <td>False</td>\n",
       "      <td>False</td>\n",
       "      <td>False</td>\n",
       "      <td>False</td>\n",
       "      <td>False</td>\n",
       "      <td>False</td>\n",
       "      <td>True</td>\n",
       "    </tr>\n",
       "    <tr>\n",
       "      <th>90</th>\n",
       "      <td>False</td>\n",
       "      <td>False</td>\n",
       "      <td>False</td>\n",
       "      <td>False</td>\n",
       "      <td>False</td>\n",
       "      <td>False</td>\n",
       "      <td>False</td>\n",
       "    </tr>\n",
       "    <tr>\n",
       "      <th>91</th>\n",
       "      <td>False</td>\n",
       "      <td>False</td>\n",
       "      <td>False</td>\n",
       "      <td>False</td>\n",
       "      <td>False</td>\n",
       "      <td>False</td>\n",
       "      <td>False</td>\n",
       "    </tr>\n",
       "    <tr>\n",
       "      <th>92</th>\n",
       "      <td>False</td>\n",
       "      <td>False</td>\n",
       "      <td>False</td>\n",
       "      <td>False</td>\n",
       "      <td>False</td>\n",
       "      <td>True</td>\n",
       "      <td>False</td>\n",
       "    </tr>\n",
       "  </tbody>\n",
       "</table>\n",
       "<p>93 rows × 7 columns</p>\n",
       "</div>"
      ],
      "text/plain": [
       "    tweet_id  author_id  inbound  created_at   text  response_tweet_id  \\\n",
       "0      False      False    False       False  False              False   \n",
       "1      False      False    False       False  False               True   \n",
       "2      False      False    False       False  False              False   \n",
       "3      False      False    False       False  False              False   \n",
       "4      False      False    False       False  False              False   \n",
       "..       ...        ...      ...         ...    ...                ...   \n",
       "88     False      False    False       False  False              False   \n",
       "89     False      False    False       False  False              False   \n",
       "90     False      False    False       False  False              False   \n",
       "91     False      False    False       False  False              False   \n",
       "92     False      False    False       False  False               True   \n",
       "\n",
       "    in_response_to_tweet_id  \n",
       "0                      True  \n",
       "1                     False  \n",
       "2                      True  \n",
       "3                     False  \n",
       "4                     False  \n",
       "..                      ...  \n",
       "88                    False  \n",
       "89                     True  \n",
       "90                    False  \n",
       "91                    False  \n",
       "92                    False  \n",
       "\n",
       "[93 rows x 7 columns]"
      ]
     },
     "execution_count": 10,
     "metadata": {},
     "output_type": "execute_result"
    }
   ],
   "source": [
    "#Finding Null Values\n",
    "data.isnull()"
   ]
  },
  {
   "cell_type": "code",
   "execution_count": 11,
   "id": "9b89d03c",
   "metadata": {},
   "outputs": [
    {
     "data": {
      "text/plain": [
       "tweet_id                    0\n",
       "author_id                   0\n",
       "inbound                     0\n",
       "created_at                  0\n",
       "text                        0\n",
       "response_tweet_id          28\n",
       "in_response_to_tweet_id    25\n",
       "dtype: int64"
      ]
     },
     "execution_count": 11,
     "metadata": {},
     "output_type": "execute_result"
    }
   ],
   "source": [
    "#Sum of the Null values\n",
    "data.isnull().sum()"
   ]
  },
  {
   "cell_type": "code",
   "execution_count": 12,
   "id": "53b7d8cf",
   "metadata": {},
   "outputs": [
    {
     "data": {
      "text/plain": [
       "tweet_id                    0\n",
       "author_id                   0\n",
       "inbound                     0\n",
       "created_at                  0\n",
       "text                        0\n",
       "response_tweet_id          28\n",
       "in_response_to_tweet_id    25\n",
       "dtype: int64"
      ]
     },
     "execution_count": 12,
     "metadata": {},
     "output_type": "execute_result"
    }
   ],
   "source": [
    "#Sum of the NaN values\n",
    "data.isna().sum()"
   ]
  },
  {
   "cell_type": "code",
   "execution_count": 13,
   "id": "d3483d64",
   "metadata": {},
   "outputs": [],
   "source": [
    "#Replacing nan 'in_response_to_tweet_id' column by forward fill \n",
    "data['in_response_to_tweet_id']=data['in_response_to_tweet_id'].fillna(method='ffill', axis=0)"
   ]
  },
  {
   "cell_type": "code",
   "execution_count": 14,
   "id": "d5132ffe",
   "metadata": {},
   "outputs": [
    {
     "data": {
      "text/plain": [
       "tweet_id                    0\n",
       "author_id                   0\n",
       "inbound                     0\n",
       "created_at                  0\n",
       "text                        0\n",
       "response_tweet_id          28\n",
       "in_response_to_tweet_id     1\n",
       "dtype: int64"
      ]
     },
     "execution_count": 14,
     "metadata": {},
     "output_type": "execute_result"
    }
   ],
   "source": [
    "#Sum of the NaN values\n",
    "data.isna().sum()"
   ]
  },
  {
   "cell_type": "code",
   "execution_count": 15,
   "id": "463bfadf",
   "metadata": {},
   "outputs": [
    {
     "data": {
      "text/plain": [
       "tweet_id                   93\n",
       "author_id                  42\n",
       "inbound                     2\n",
       "created_at                 93\n",
       "text                       93\n",
       "response_tweet_id          65\n",
       "in_response_to_tweet_id    66\n",
       "dtype: int64"
      ]
     },
     "execution_count": 15,
     "metadata": {},
     "output_type": "execute_result"
    }
   ],
   "source": [
    "#Unique length of the Data\n",
    "data.nunique()"
   ]
  },
  {
   "cell_type": "code",
   "execution_count": 16,
   "id": "4cee61cb",
   "metadata": {},
   "outputs": [
    {
     "data": {
      "text/plain": [
       "tweet_id                     int64\n",
       "author_id                   object\n",
       "inbound                       bool\n",
       "created_at                  object\n",
       "text                        object\n",
       "response_tweet_id           object\n",
       "in_response_to_tweet_id    float64\n",
       "dtype: object"
      ]
     },
     "execution_count": 16,
     "metadata": {},
     "output_type": "execute_result"
    }
   ],
   "source": [
    "#Type of Data\n",
    "data.dtypes"
   ]
  },
  {
   "cell_type": "raw",
   "id": "b26b16a4",
   "metadata": {},
   "source": [
    "#Plotting ScatterPlot of tweet_id vs author_id\n",
    "fig = plt.figure(figsize=(15,10))\n",
    "sns.scatterplot(data=data, x='tweet_id', y='author_id')\n",
    "plt.title('tweet_id vs author_id')\n",
    "plt.show()"
   ]
  },
  {
   "cell_type": "code",
   "execution_count": 17,
   "id": "21958ada",
   "metadata": {},
   "outputs": [
    {
     "name": "stderr",
     "output_type": "stream",
     "text": [
      "/home/rutvathaker/.local/lib/python3.8/site-packages/seaborn/categorical.py:3717: UserWarning: The `factorplot` function has been renamed to `catplot`. The original name will be removed in a future release. Please update your code. Note that the default `kind` in `factorplot` (`'point'`) has changed `'strip'` in `catplot`.\n",
      "  warnings.warn(msg)\n",
      "/home/rutvathaker/.local/lib/python3.8/site-packages/seaborn/categorical.py:3723: UserWarning: The `size` parameter has been renamed to `height`; please update your code.\n",
      "  warnings.warn(msg, UserWarning)\n"
     ]
    },
    {
     "data": {
      "text/plain": [
       "<seaborn.axisgrid.FacetGrid at 0x7f3bc6188790>"
      ]
     },
     "execution_count": 17,
     "metadata": {},
     "output_type": "execute_result"
    },
    {
     "data": {
      "image/png": "[encoded data removed]",
      "text/plain": [
       "<Figure size 720x720 with 1 Axes>"
      ]
     },
     "metadata": {
      "needs_background": "light"
     },
     "output_type": "display_data"
    }
   ],
   "source": [
    "#Plotting BoxPlot for comparing tweet_id with inbound\n",
    "sns.factorplot(data=data, x='inbound', y='tweet_id', kind='box', size=10)"
   ]
  },
  {
   "cell_type": "code",
   "execution_count": 18,
   "id": "ca17c24d",
   "metadata": {},
   "outputs": [
    {
     "data": {
      "image/png": "[encoded data removed]",
      "text/plain": [
       "<Figure size 1800x1080 with 1 Axes>"
      ]
     },
     "metadata": {
      "needs_background": "light"
     },
     "output_type": "display_data"
    }
   ],
   "source": [
    "#Plotting CountPlot of inbound vs author_id for observing the counts of the inbound for author_id\n",
    "fig = plt.figure(figsize=(25,15))\n",
    "sns.countplot(x=data.author_id[:50], hue=data.inbound)\n",
    "plt.show()"
   ]
  },
  {
   "cell_type": "code",
   "execution_count": 19,
   "id": "98ca4c85",
   "metadata": {},
   "outputs": [],
   "source": [
    "#Dropping duplicates\n",
    "data.drop_duplicates(inplace=True)"
   ]
  },
  {
   "cell_type": "code",
   "execution_count": 20,
   "id": "fc419936",
   "metadata": {},
   "outputs": [],
   "source": [
    "# To remove HTML tag\n",
    "def html_remover(data):\n",
    "    \"\"\"\n",
    "    input: takes original text string from data\n",
    "\n",
    "    output:\n",
    "    removes HTML tag in the text prsent in the data\n",
    "\n",
    "    \"\"\"\n",
    "    beauti = BeautifulSoup(data,'html.parser')\n",
    "    return beauti.get_text()"
   ]
  },
  {
   "cell_type": "code",
   "execution_count": 21,
   "id": "54188c39",
   "metadata": {},
   "outputs": [
    {
     "data": {
      "text/plain": [
       "0     @AppleSupport causing the reply to be disregar...\n",
       "1     @105835 Your business means a lot to us. Pleas...\n",
       "2     @76328 I really hope you all change but I'm su...\n",
       "3     @105836 LiveChat is online at the moment - htt...\n",
       "4     @VirginTrains see attached error message. I've...\n",
       "                            ...                        \n",
       "88    @105860 I wish Amazon had an option of where I...\n",
       "89    They reschedule my shit for tomorrow https://t...\n",
       "90    @105861 Hey Sara, sorry to hear of the issues ...\n",
       "91    @Tesco bit of both - finding the layout cumber...\n",
       "92    @105861 If that doesn't help please DM your fu...\n",
       "Name: text_html_remover, Length: 93, dtype: object"
      ]
     },
     "execution_count": 21,
     "metadata": {},
     "output_type": "execute_result"
    }
   ],
   "source": [
    "#Removes HTML tag from original data\n",
    "data['text_html_remover'] = data['text'].apply(lambda x:html_remover(x))\n",
    "data['text_html_remover']"
   ]
  },
  {
   "cell_type": "code",
   "execution_count": 22,
   "id": "a3d347e5",
   "metadata": {},
   "outputs": [],
   "source": [
    "# To remove URL\n",
    "def url_remover(data):\n",
    "    \n",
    "    \"\"\" \n",
    "    input: takes original text string from the data\n",
    "\n",
    "    output:\n",
    "    removes round brackets in the text present in the data\n",
    "\n",
    "    \"\"\"\n",
    "    return re.sub(r'http[s]?://(?:[a-zA-Z]|[0-9]|[$-_@.&+]|[!*\\(\\),]|(?:%[0-9a-fA-F][0-9a-fA-F]))+', ' ',data)"
   ]
  },
  {
   "cell_type": "code",
   "execution_count": 23,
   "id": "4530e793",
   "metadata": {},
   "outputs": [
    {
     "data": {
      "text/plain": [
       "0     @AppleSupport causing the reply to be disregar...\n",
       "1     @105835 Your business means a lot to us. Pleas...\n",
       "2     @76328 I really hope you all change but I'm su...\n",
       "3     @105836 LiveChat is online at the moment -   o...\n",
       "4     @VirginTrains see attached error message. I've...\n",
       "                            ...                        \n",
       "88    @105860 I wish Amazon had an option of where I...\n",
       "89               They reschedule my shit for tomorrow  \n",
       "90    @105861 Hey Sara, sorry to hear of the issues ...\n",
       "91    @Tesco bit of both - finding the layout cumber...\n",
       "92    @105861 If that doesn't help please DM your fu...\n",
       "Name: text_url_remover, Length: 93, dtype: object"
      ]
     },
     "execution_count": 23,
     "metadata": {},
     "output_type": "execute_result"
    }
   ],
   "source": [
    "#Removes URl after removing HTML tag in the same data\n",
    "data['text_url_remover'] = data['text_html_remover'].apply(lambda x:url_remover(x))\n",
    "data['text_url_remover']\n"
   ]
  },
  {
   "cell_type": "code",
   "execution_count": 24,
   "id": "febd9a50",
   "metadata": {},
   "outputs": [],
   "source": [
    "#To remove brackets\n",
    "def remove_round_brackets(data):\n",
    "    \n",
    "    \"\"\" \n",
    "    input: takes original text string from data\n",
    "\n",
    "    output:\n",
    "    removes round brackets in the text present in the data\n",
    "\n",
    "    \"\"\"\n",
    "    return re.sub('\\(.*?\\)','',data)"
   ]
  },
  {
   "cell_type": "code",
   "execution_count": 25,
   "id": "30311be9",
   "metadata": {},
   "outputs": [
    {
     "data": {
      "text/plain": [
       "0     @AppleSupport causing the reply to be disregar...\n",
       "1     @105835 Your business means a lot to us. Pleas...\n",
       "2     @76328 I really hope you all change but I'm su...\n",
       "3     @105836 LiveChat is online at the moment -   o...\n",
       "4     @VirginTrains see attached error message. I've...\n",
       "                            ...                        \n",
       "88    @105860 I wish Amazon had an option of where I...\n",
       "89               They reschedule my shit for tomorrow  \n",
       "90    @105861 Hey Sara, sorry to hear of the issues ...\n",
       "91    @Tesco bit of both - finding the layout cumber...\n",
       "92    @105861 If that doesn't help please DM your fu...\n",
       "Name: text_remove_brackets, Length: 93, dtype: object"
      ]
     },
     "execution_count": 25,
     "metadata": {},
     "output_type": "execute_result"
    }
   ],
   "source": [
    "#Removes brackets after removing URL in the same data\n",
    "data['text_remove_brackets'] = data['text_url_remover'].apply(lambda x:remove_round_brackets(x))\n",
    "data['text_remove_brackets'] "
   ]
  },
  {
   "cell_type": "code",
   "execution_count": 26,
   "id": "2005bbd0",
   "metadata": {},
   "outputs": [],
   "source": [
    "#To remove punctuations\n",
    "def remove_punctuation(text):\n",
    "    \n",
    "    \"\"\" \n",
    "    input: takes original text string \n",
    "\n",
    "    output:\n",
    "    removes punctuations in the text \n",
    "\n",
    "    \"\"\"\n",
    "    punctuationfree=\"\".join([i for i in text if i not in string.punctuation])\n",
    "    return punctuationfree"
   ]
  },
  {
   "cell_type": "code",
   "execution_count": 27,
   "id": "de82baed",
   "metadata": {},
   "outputs": [
    {
     "data": {
      "text/plain": [
       "0     AppleSupport causing the reply to be disregard...\n",
       "1     105835 Your business means a lot to us Please ...\n",
       "2     76328 I really hope you all change but Im sure...\n",
       "3     105836 LiveChat is online at the moment    or ...\n",
       "4     VirginTrains see attached error message Ive tr...\n",
       "                            ...                        \n",
       "88    105860 I wish Amazon had an option of where I ...\n",
       "89               They reschedule my shit for tomorrow  \n",
       "90    105861 Hey Sara sorry to hear of the issues yo...\n",
       "91    Tesco bit of both  finding the layout cumberso...\n",
       "92    105861 If that doesnt help please DM your full...\n",
       "Name: clean_msg, Length: 93, dtype: object"
      ]
     },
     "execution_count": 27,
     "metadata": {},
     "output_type": "execute_result"
    }
   ],
   "source": [
    "#Removes punctuations after removing brackets in the same data\n",
    "data['clean_msg']= data['text_remove_brackets'].apply(lambda x:remove_punctuation(x))\n",
    "data['clean_msg']"
   ]
  },
  {
   "cell_type": "code",
   "execution_count": 28,
   "id": "b9e3970c",
   "metadata": {},
   "outputs": [
    {
     "name": "stderr",
     "output_type": "stream",
     "text": [
      "/tmp/ipykernel_8100/3313105304.py:2: FutureWarning: The default value of regex will change from True to False in a future version.\n",
      "  data['clean_msg'] = data['clean_msg'].str.replace('\\d+', '')\n"
     ]
    }
   ],
   "source": [
    "#Replacing digits with string\n",
    "data['clean_msg'] = data['clean_msg'].str.replace('\\d+', '')"
   ]
  },
  {
   "cell_type": "code",
   "execution_count": 29,
   "id": "aae29e21",
   "metadata": {},
   "outputs": [],
   "source": [
    "#To remove spaces\n",
    "def white_space(data):\n",
    "    \n",
    "    \"\"\" \n",
    "    input: takes original text string from the data\n",
    "\n",
    "    output:\n",
    "    removes spaces in the text present in the data\n",
    "\n",
    "    \"\"\"\n",
    "    return ' '.join(data.split())"
   ]
  },
  {
   "cell_type": "code",
   "execution_count": 30,
   "id": "58cbbe24",
   "metadata": {},
   "outputs": [
    {
     "data": {
      "text/plain": [
       "0     AppleSupport causing the reply to be disregard...\n",
       "1     Your business means a lot to us Please DM your...\n",
       "2     I really hope you all change but Im sure you w...\n",
       "3     LiveChat is online at the moment or contact op...\n",
       "4     VirginTrains see attached error message Ive tr...\n",
       "                            ...                        \n",
       "88    I wish Amazon had an option of where I can jus...\n",
       "89                 They reschedule my shit for tomorrow\n",
       "90    Hey Sara sorry to hear of the issues you are h...\n",
       "91    Tesco bit of both finding the layout cumbersom...\n",
       "92    If that doesnt help please DM your full name a...\n",
       "Name: white_space, Length: 93, dtype: object"
      ]
     },
     "execution_count": 30,
     "metadata": {},
     "output_type": "execute_result"
    }
   ],
   "source": [
    "#Removes spaces after removing punctuations in the same data\n",
    "data['white_space']= data['clean_msg'].apply(lambda x:white_space(x))\n",
    "data['white_space']"
   ]
  },
  {
   "cell_type": "code",
   "execution_count": 31,
   "id": "c2abd32e",
   "metadata": {},
   "outputs": [],
   "source": [
    "#Lowering the text\n",
    "def text_lower(data):\n",
    "    \n",
    "    \"\"\" \n",
    "    input: takes original text string from the data\n",
    "\n",
    "    output:\n",
    "    lowers the text in the data\n",
    "\n",
    "    \"\"\"\n",
    "    return data.lower()"
   ]
  },
  {
   "cell_type": "code",
   "execution_count": 32,
   "id": "ca755f6d",
   "metadata": {},
   "outputs": [
    {
     "data": {
      "text/plain": [
       "0     applesupport causing the reply to be disregard...\n",
       "1     your business means a lot to us please dm your...\n",
       "2     i really hope you all change but im sure you w...\n",
       "3     livechat is online at the moment or contact op...\n",
       "4     virgintrains see attached error message ive tr...\n",
       "                            ...                        \n",
       "88    i wish amazon had an option of where i can jus...\n",
       "89                 they reschedule my shit for tomorrow\n",
       "90    hey sara sorry to hear of the issues you are h...\n",
       "91    tesco bit of both finding the layout cumbersom...\n",
       "92    if that doesnt help please dm your full name a...\n",
       "Name: text_lower, Length: 93, dtype: object"
      ]
     },
     "execution_count": 32,
     "metadata": {},
     "output_type": "execute_result"
    }
   ],
   "source": [
    "#Lowers the text after removing spaces in the same data\n",
    "data['text_lower']= data['white_space'].apply(lambda x:text_lower(x))\n",
    "data['text_lower']"
   ]
  },
  {
   "cell_type": "code",
   "execution_count": 33,
   "id": "8ce97578",
   "metadata": {},
   "outputs": [],
   "source": [
    "#Replacing the contraction\n",
    "def contraction_replace(data):\n",
    "    \n",
    "    \"\"\" \n",
    "     input: takes original text string from data\n",
    "\n",
    "     output:\n",
    "     replaces the contraction in string to text in the data\n",
    "\n",
    "    \"\"\"\n",
    "    return contractions.fix(data)"
   ]
  },
  {
   "cell_type": "code",
   "execution_count": 34,
   "id": "018dd374",
   "metadata": {},
   "outputs": [
    {
     "data": {
      "text/plain": [
       "0     applesupport causing the reply to be disregard...\n",
       "1     your business means a lot to us please dm your...\n",
       "2     i really hope you all change but i am sure you...\n",
       "3     livechat is online at the moment or contact op...\n",
       "4     virgintrains see attached error message i have...\n",
       "                            ...                        \n",
       "88    i wish amazon had an option of where i can jus...\n",
       "89                 they reschedule my shit for tomorrow\n",
       "90    hey sara sorry to hear of the issues you are h...\n",
       "91    tesco bit of both finding the layout cumbersom...\n",
       "92    if that does not help please dm your full name...\n",
       "Name: text_contraction, Length: 93, dtype: object"
      ]
     },
     "execution_count": 34,
     "metadata": {},
     "output_type": "execute_result"
    }
   ],
   "source": [
    "#Replaces contractions after lowering text in the same data\n",
    "data['text_contraction']= data['text_lower'].apply(lambda x:contraction_replace(x))\n",
    "data['text_contraction']"
   ]
  },
  {
   "cell_type": "code",
   "execution_count": 35,
   "id": "8328aa4d",
   "metadata": {},
   "outputs": [
    {
     "name": "stderr",
     "output_type": "stream",
     "text": [
      "[nltk_data] Downloading package stopwords to\n",
      "[nltk_data]     /home/rutvathaker/nltk_data...\n",
      "[nltk_data]   Package stopwords is already up-to-date!\n"
     ]
    },
    {
     "data": {
      "text/plain": [
       "['i', 'me', 'my', 'myself', 'we', 'our', 'ours', 'ourselves', 'you', \"you're\"]"
      ]
     },
     "execution_count": 35,
     "metadata": {},
     "output_type": "execute_result"
    }
   ],
   "source": [
    "#Getting a set of English stopWords by using nltk library\n",
    "nltk.download('stopwords')\n",
    "stopwords = nltk.corpus.stopwords.words('english')\n",
    "stopwords[0:10]\n"
   ]
  },
  {
   "cell_type": "code",
   "execution_count": 36,
   "id": "058ede5f",
   "metadata": {},
   "outputs": [],
   "source": [
    "#Getting words dictionary for stopwords\n",
    "stopcorpus=[]\n",
    "new= data['text_lower']\n",
    "new=new.values\n",
    "stopcorpus=[stopwords for i in new for word in i]\n",
    "\n",
    "from collections import defaultdict\n",
    "dic=defaultdict(int)\n",
    "for word in stopcorpus:\n",
    "    if word in stopwords:\n",
    "        dic[word]+=1\n"
   ]
  },
  {
   "cell_type": "code",
   "execution_count": 37,
   "id": "8b71790b",
   "metadata": {},
   "outputs": [
    {
     "data": {
      "text/plain": [
       "9179"
      ]
     },
     "execution_count": 37,
     "metadata": {},
     "output_type": "execute_result"
    }
   ],
   "source": [
    "#Length of stopwords\n",
    "len(stopcorpus)"
   ]
  },
  {
   "cell_type": "code",
   "execution_count": 38,
   "id": "7296bfc2",
   "metadata": {
    "scrolled": true
   },
   "outputs": [
    {
     "name": "stderr",
     "output_type": "stream",
     "text": [
      "/home/rutvathaker/.local/lib/python3.8/site-packages/seaborn/_decorators.py:36: FutureWarning: Pass the following variables as keyword args: x, y. From version 0.12, the only valid positional argument will be `data`, and passing other arguments without an explicit keyword will result in an error or misinterpretation.\n",
      "  warnings.warn(\n"
     ]
    },
    {
     "data": {
      "text/plain": [
       "<Figure size 1440x576 with 0 Axes>"
      ]
     },
     "execution_count": 38,
     "metadata": {},
     "output_type": "execute_result"
    },
    {
     "data": {
      "image/png": "[encoded data removed]",
      "text/plain": [
       "<Figure size 432x288 with 1 Axes>"
      ]
     },
     "metadata": {
      "needs_background": "light"
     },
     "output_type": "display_data"
    },
    {
     "data": {
      "text/plain": [
       "<Figure size 1440x576 with 0 Axes>"
      ]
     },
     "metadata": {},
     "output_type": "display_data"
    }
   ],
   "source": [
    "#plot for most occuring stopwords\n",
    "stop=\" \".join([i for i in data['text_lower'].values])\n",
    "stop=\" \".join([word for word in stop.split() if word in stopwords])\n",
    "\n",
    "#Counting the StopWords\n",
    "count={}\n",
    "for word in stop.split():\n",
    "    if word in count:\n",
    "        count[word]+=1\n",
    "    else:\n",
    "        count[word]=1\n",
    "count\n",
    "\n",
    "#Plotting Barplot for most occuring StopWords by using stopwords dictionary\n",
    "tw= dict(sorted(count.items(), key = itemgetter(1), reverse = True)[:10])\n",
    "tw\n",
    "sns.barplot(list(tw.keys()), list(tw.values()))\n",
    "plt.figure(figsize=(20,8))\n",
    "\n",
    "\n"
   ]
  },
  {
   "cell_type": "code",
   "execution_count": 39,
   "id": "8ec3f448",
   "metadata": {},
   "outputs": [
    {
     "data": {
      "text/plain": [
       "0     applesupport causing reply disregarded tapped ...\n",
       "1     business means lot us please dm name zip code ...\n",
       "2                               really hope change sure\n",
       "3     livechat online moment contact option request ...\n",
       "4     virgintrains see attached error message tried ...\n",
       "                            ...                        \n",
       "88    wish amazon option get shipped ups store avoid...\n",
       "89                             reschedule shit tomorrow\n",
       "90    hey sara sorry hear issues ask lay speed websi...\n",
       "91    tesco bit finding layout cumbersome removing i...\n",
       "92    help please dm full name address email includi...\n",
       "Name: no_stopwords, Length: 93, dtype: object"
      ]
     },
     "execution_count": 39,
     "metadata": {},
     "output_type": "execute_result"
    }
   ],
   "source": [
    "#Removing StopWords after replacing contractions in the same data\n",
    "data['no_stopwords'] = data['text_contraction'].apply(lambda x:' '.join([i for i in x.split() if i not in stopwords]))\n",
    "data['no_stopwords']"
   ]
  },
  {
   "cell_type": "code",
   "execution_count": 40,
   "id": "096c2129",
   "metadata": {},
   "outputs": [
    {
     "data": {
      "text/plain": [
       "0     applesupport causing reply disregarded tapped ...\n",
       "1     business means lot us please dm name zip code ...\n",
       "2                               really hope change sure\n",
       "3     livechat online moment contact option request ...\n",
       "4     virgintrains see attached error message tried ...\n",
       "                            ...                        \n",
       "88    wish amazon option get shipped ups store avoid...\n",
       "89                             reschedule shit tomorrow\n",
       "90    hey sara sorry hear issues ask lay speed websi...\n",
       "91    tesco bit finding layout cumbersome removing i...\n",
       "92    help please dm full name address email includi...\n",
       "Name: no_stopwords, Length: 93, dtype: object"
      ]
     },
     "execution_count": 40,
     "metadata": {},
     "output_type": "execute_result"
    }
   ],
   "source": [
    "#Removing the Emojis in the same data of removing stopwords\n",
    "data['no_stopwords'] = data['no_stopwords'].astype(str).apply(lambda x: x.encode('latin-1', 'ignore').decode('latin-1'))\n",
    "data['no_stopwords']"
   ]
  },
  {
   "cell_type": "code",
   "execution_count": 41,
   "id": "d04f0c36",
   "metadata": {},
   "outputs": [],
   "source": [
    "#Stemming the Data\n",
    "from nltk.stem.porter import PorterStemmer\n",
    "porter_stemmer = PorterStemmer()\n",
    "\n",
    "def stemming(text):\n",
    "    \n",
    "    \"\"\" \n",
    "    input: takes original text string \n",
    "\n",
    "    output:\n",
    "    stemmed text\n",
    "\n",
    "    \"\"\"\n",
    "    stems = \" \".join([porter_stemmer.stem(word) for word in text.split()])\n",
    "    return stems"
   ]
  },
  {
   "cell_type": "code",
   "execution_count": 42,
   "id": "687776df",
   "metadata": {},
   "outputs": [
    {
     "data": {
      "text/plain": [
       "0     applesupport caus repli disregard tap notif ke...\n",
       "1     busi mean lot us pleas dm name zip code addit ...\n",
       "2                                realli hope chang sure\n",
       "3     livechat onlin moment contact option request c...\n",
       "4     virgintrain see attach error messag tri leav v...\n",
       "                            ...                        \n",
       "88    wish amazon option get ship up store avoid lot...\n",
       "89                              reschedul shit tomorrow\n",
       "90    hey sara sorri hear issu ask lay speed websit ...\n",
       "91    tesco bit find layout cumbersom remov item fav...\n",
       "92    help pleas dm full name address email includ b...\n",
       "Name: text_stemmed, Length: 93, dtype: object"
      ]
     },
     "execution_count": 42,
     "metadata": {},
     "output_type": "execute_result"
    }
   ],
   "source": [
    "#Stemming the data after removing stopwords in the same data\n",
    "data['text_stemmed']=data['no_stopwords'].apply(lambda x: stemming(x))\n",
    "data['text_stemmed']"
   ]
  },
  {
   "cell_type": "code",
   "execution_count": 43,
   "id": "1b9d3a69",
   "metadata": {},
   "outputs": [
    {
     "name": "stderr",
     "output_type": "stream",
     "text": [
      "[nltk_data] Downloading package wordnet to\n",
      "[nltk_data]     /home/rutvathaker/nltk_data...\n",
      "[nltk_data]   Package wordnet is already up-to-date!\n",
      "[nltk_data] Downloading package omw-1.4 to\n",
      "[nltk_data]     /home/rutvathaker/nltk_data...\n",
      "[nltk_data]   Package omw-1.4 is already up-to-date!\n"
     ]
    }
   ],
   "source": [
    "#Lemmatizing the Data\n",
    "from nltk.stem import WordNetLemmatizer\n",
    "nltk.download('wordnet')\n",
    "nltk.download('omw-1.4')\n",
    "\n",
    "word_lemmatizer = WordNetLemmatizer()\n",
    "def lemmatizer(text):\n",
    "     \n",
    "    \"\"\" \n",
    "    input: takes original text string \n",
    "\n",
    "    output:\n",
    "    lemmatized text\n",
    "\n",
    "    \"\"\"\n",
    "\n",
    "    lemm_word=\" \".join([word_lemmatizer.lemmatize(word) for word in text.split()])\n",
    "    return lemm_word"
   ]
  },
  {
   "cell_type": "code",
   "execution_count": 44,
   "id": "7039aa57",
   "metadata": {},
   "outputs": [
    {
     "data": {
      "text/plain": [
       "0     applesupport caus repli disregard tap notif ke...\n",
       "1     busi mean lot u plea dm name zip code addit de...\n",
       "2                                realli hope chang sure\n",
       "3     livechat onlin moment contact option request c...\n",
       "4     virgintrain see attach error messag tri leav v...\n",
       "                            ...                        \n",
       "88    wish amazon option get ship up store avoid lot...\n",
       "89                              reschedul shit tomorrow\n",
       "90    hey sara sorri hear issu ask lay speed websit ...\n",
       "91    tesco bit find layout cumbersom remov item fav...\n",
       "92    help plea dm full name address email includ br...\n",
       "Name: text_lemmatize, Length: 93, dtype: object"
      ]
     },
     "execution_count": 44,
     "metadata": {},
     "output_type": "execute_result"
    }
   ],
   "source": [
    "#Lemmatizing the data after stemming in the same data\n",
    "data['text_lemmatize']=data['text_stemmed'].apply(lambda x: lemmatizer(x))\n",
    "data['text_lemmatize']\n"
   ]
  },
  {
   "cell_type": "code",
   "execution_count": 45,
   "id": "44fd3b28",
   "metadata": {},
   "outputs": [
    {
     "data": {
      "text/plain": [
       "56     3\n",
       "89     3\n",
       "20     3\n",
       "2      4\n",
       "32     4\n",
       "      ..\n",
       "15    15\n",
       "16    15\n",
       "91    15\n",
       "26    15\n",
       "39    16\n",
       "Name: Sentence_length, Length: 93, dtype: int64"
      ]
     },
     "execution_count": 45,
     "metadata": {},
     "output_type": "execute_result"
    }
   ],
   "source": [
    "#Finding sentence Length after lemmatizing in the same data\n",
    "data['Sentence_length'] = data[\"text_lemmatize\"].apply(lambda x: len(x.split()))\n",
    "data['Sentence_length'].sort_values()"
   ]
  },
  {
   "cell_type": "code",
   "execution_count": 46,
   "id": "4f025057",
   "metadata": {},
   "outputs": [
    {
     "data": {
      "text/plain": [
       "2      22\n",
       "72     22\n",
       "89     23\n",
       "5      25\n",
       "56     25\n",
       "     ... \n",
       "91     86\n",
       "52     86\n",
       "26     89\n",
       "22     91\n",
       "16    105\n",
       "Name: Word_length, Length: 93, dtype: int64"
      ]
     },
     "execution_count": 46,
     "metadata": {},
     "output_type": "execute_result"
    }
   ],
   "source": [
    "data['Word_length'] = data['text_lemmatize'].apply(len)\n",
    "data['Word_length'].sort_values()"
   ]
  },
  {
   "cell_type": "code",
   "execution_count": 47,
   "id": "1fb20c2e",
   "metadata": {},
   "outputs": [],
   "source": [
    "#Getting words dictionary without stopwords\n",
    "corpus=[]\n",
    "new= data['no_stopwords'].str.split()\n",
    "new=new.values.tolist()\n",
    "\n",
    "#Creating corpus for words generating from the data\n",
    "corpus=[word for i in new for word in i]\n",
    "\n",
    "#Creating dictionary for words without stopwords\n",
    "from collections import defaultdict\n",
    "dic=defaultdict(int)\n",
    "for word in corpus:\n",
    "    if word in stopwords:\n",
    "        dic[word]+=1"
   ]
  },
  {
   "cell_type": "code",
   "execution_count": 48,
   "id": "df967206",
   "metadata": {},
   "outputs": [
    {
     "data": {
      "text/plain": [
       "924"
      ]
     },
     "execution_count": 48,
     "metadata": {},
     "output_type": "execute_result"
    }
   ],
   "source": [
    "#length of the words without stopwords\n",
    "len(corpus)"
   ]
  },
  {
   "cell_type": "code",
   "execution_count": 49,
   "id": "79821660",
   "metadata": {},
   "outputs": [
    {
     "data": {
      "text/plain": [
       "<AxesSubplot:>"
      ]
     },
     "execution_count": 49,
     "metadata": {},
     "output_type": "execute_result"
    },
    {
     "data": {
      "image/png": "[encoded data removed]",
      "text/plain": [
       "<Figure size 432x288 with 1 Axes>"
      ]
     },
     "metadata": {
      "needs_background": "light"
     },
     "output_type": "display_data"
    }
   ],
   "source": [
    "#Plotting for most occuring words\n",
    "counter=Counter(corpus)\n",
    "most=counter.most_common()\n",
    "\n",
    "#Using counter,plotting the most common words from the corpus dictionary\n",
    "x, y= [], []\n",
    "for word,count in most[:15]:\n",
    "        x.append(word)\n",
    "        y.append(count)\n",
    "        \n",
    "sns.barplot(x=y,y=x)"
   ]
  },
  {
   "cell_type": "code",
   "execution_count": 50,
   "id": "913bbe62",
   "metadata": {},
   "outputs": [
    {
     "name": "stderr",
     "output_type": "stream",
     "text": [
      "/tmp/ipykernel_8100/1470542454.py:2: FutureWarning: The default value of regex will change from True to False in a future version.\n",
      "  data['nostopwords<3'] = data['no_stopwords'].str.replace(r'\\b(\\w{1,3})\\b', '')\n"
     ]
    },
    {
     "data": {
      "text/plain": [
       "0     applesupport causing reply disregarded tapped ...\n",
       "1     business means   please  name  code additional...\n",
       "2                               really hope change sure\n",
       "3     livechat online moment contact option request ...\n",
       "4     virgintrains  attached error message tried lea...\n",
       "                            ...                        \n",
       "88    wish amazon option  shipped  store avoid  stru...\n",
       "89                             reschedule shit tomorrow\n",
       "90     sara sorry hear issues   speed website respon...\n",
       "91    tesco  finding layout cumbersome removing item...\n",
       "92    help please  full name address email including...\n",
       "Name: nostopwords<3, Length: 93, dtype: object"
      ]
     },
     "execution_count": 50,
     "metadata": {},
     "output_type": "execute_result"
    }
   ],
   "source": [
    "#Removing 3 length words from Data\n",
    "data['nostopwords<3'] = data['no_stopwords'].str.replace(r'\\b(\\w{1,3})\\b', '')\n",
    "data['nostopwords<3']"
   ]
  },
  {
   "cell_type": "code",
   "execution_count": 51,
   "id": "22b23625",
   "metadata": {},
   "outputs": [],
   "source": [
    "#Getting words dictionary after removing 3 length words from data without stopwords \n",
    "corpus_1=[]\n",
    "new= data['nostopwords<3'].str.split()\n",
    "new=new.values.tolist()\n",
    "\n",
    "#Creating corpus for words after removing 3 length words generating from the data\n",
    "corpus_1=[word for i in new for word in i]\n",
    "\n",
    "#Creating dictionary for words after removing 3 length words without stopwords\n",
    "from collections import defaultdict\n",
    "dic=defaultdict(int)\n",
    "for word in corpus_1:\n",
    "    if word in stopwords:\n",
    "        dic[word]+=1"
   ]
  },
  {
   "cell_type": "code",
   "execution_count": 52,
   "id": "09688660",
   "metadata": {},
   "outputs": [
    {
     "data": {
      "text/plain": [
       "<AxesSubplot:>"
      ]
     },
     "execution_count": 52,
     "metadata": {},
     "output_type": "execute_result"
    },
    {
     "data": {
      "image/png": "[encoded data removed]",
      "text/plain": [
       "<Figure size 432x288 with 1 Axes>"
      ]
     },
     "metadata": {
      "needs_background": "light"
     },
     "output_type": "display_data"
    }
   ],
   "source": [
    "#Plot for most occuring words after removing 3 length words from data\n",
    "counter=Counter(corpus_1)\n",
    "most=counter.most_common()\n",
    "\n",
    "#Using counter,plotting the most common words after removing 3 length word from the corpus dictionary\n",
    "x, y= [], []\n",
    "x, y= [], []\n",
    "for word,count in most[:15]:\n",
    "        x.append(word)\n",
    "        y.append(count)\n",
    "        \n",
    "sns.barplot(x=y,y=x)"
   ]
  },
  {
   "cell_type": "code",
   "execution_count": 53,
   "id": "a2a0dd3f",
   "metadata": {},
   "outputs": [
    {
     "data": {
      "text/html": [
       "<div>\n",
       "<style scoped>\n",
       "    .dataframe tbody tr th:only-of-type {\n",
       "        vertical-align: middle;\n",
       "    }\n",
       "\n",
       "    .dataframe tbody tr th {\n",
       "        vertical-align: top;\n",
       "    }\n",
       "\n",
       "    .dataframe thead th {\n",
       "        text-align: right;\n",
       "    }\n",
       "</style>\n",
       "<table border=\"1\" class=\"dataframe\">\n",
       "  <thead>\n",
       "    <tr style=\"text-align: right;\">\n",
       "      <th></th>\n",
       "      <th>tweet_id</th>\n",
       "      <th>author_id</th>\n",
       "      <th>inbound</th>\n",
       "      <th>created_at</th>\n",
       "      <th>text</th>\n",
       "      <th>response_tweet_id</th>\n",
       "      <th>in_response_to_tweet_id</th>\n",
       "      <th>text_html_remover</th>\n",
       "      <th>text_url_remover</th>\n",
       "      <th>text_remove_brackets</th>\n",
       "      <th>clean_msg</th>\n",
       "      <th>white_space</th>\n",
       "      <th>text_lower</th>\n",
       "      <th>text_contraction</th>\n",
       "      <th>no_stopwords</th>\n",
       "      <th>text_stemmed</th>\n",
       "      <th>text_lemmatize</th>\n",
       "      <th>Sentence_length</th>\n",
       "      <th>Word_length</th>\n",
       "      <th>nostopwords&lt;3</th>\n",
       "    </tr>\n",
       "  </thead>\n",
       "  <tbody>\n",
       "    <tr>\n",
       "      <th>0</th>\n",
       "      <td>119237</td>\n",
       "      <td>105834</td>\n",
       "      <td>True</td>\n",
       "      <td>Wed Oct 11 06:55:44 +0000 2017</td>\n",
       "      <td>@AppleSupport causing the reply to be disregar...</td>\n",
       "      <td>119236</td>\n",
       "      <td>NaN</td>\n",
       "      <td>@AppleSupport causing the reply to be disregar...</td>\n",
       "      <td>@AppleSupport causing the reply to be disregar...</td>\n",
       "      <td>@AppleSupport causing the reply to be disregar...</td>\n",
       "      <td>AppleSupport causing the reply to be disregard...</td>\n",
       "      <td>AppleSupport causing the reply to be disregard...</td>\n",
       "      <td>applesupport causing the reply to be disregard...</td>\n",
       "      <td>applesupport causing the reply to be disregard...</td>\n",
       "      <td>applesupport causing reply disregarded tapped ...</td>\n",
       "      <td>applesupport caus repli disregard tap notif ke...</td>\n",
       "      <td>applesupport caus repli disregard tap notif ke...</td>\n",
       "      <td>8</td>\n",
       "      <td>57</td>\n",
       "      <td>applesupport causing reply disregarded tapped ...</td>\n",
       "    </tr>\n",
       "    <tr>\n",
       "      <th>1</th>\n",
       "      <td>119238</td>\n",
       "      <td>ChaseSupport</td>\n",
       "      <td>False</td>\n",
       "      <td>Wed Oct 11 13:25:49 +0000 2017</td>\n",
       "      <td>@105835 Your business means a lot to us. Pleas...</td>\n",
       "      <td>NaN</td>\n",
       "      <td>119239.0</td>\n",
       "      <td>@105835 Your business means a lot to us. Pleas...</td>\n",
       "      <td>@105835 Your business means a lot to us. Pleas...</td>\n",
       "      <td>@105835 Your business means a lot to us. Pleas...</td>\n",
       "      <td>Your business means a lot to us Please DM you...</td>\n",
       "      <td>Your business means a lot to us Please DM your...</td>\n",
       "      <td>your business means a lot to us please dm your...</td>\n",
       "      <td>your business means a lot to us please dm your...</td>\n",
       "      <td>business means lot us please dm name zip code ...</td>\n",
       "      <td>busi mean lot us pleas dm name zip code addit ...</td>\n",
       "      <td>busi mean lot u plea dm name zip code addit de...</td>\n",
       "      <td>13</td>\n",
       "      <td>61</td>\n",
       "      <td>business means   please  name  code additional...</td>\n",
       "    </tr>\n",
       "    <tr>\n",
       "      <th>2</th>\n",
       "      <td>119239</td>\n",
       "      <td>105835</td>\n",
       "      <td>True</td>\n",
       "      <td>Wed Oct 11 13:00:09 +0000 2017</td>\n",
       "      <td>@76328 I really hope you all change but I'm su...</td>\n",
       "      <td>119238</td>\n",
       "      <td>119239.0</td>\n",
       "      <td>@76328 I really hope you all change but I'm su...</td>\n",
       "      <td>@76328 I really hope you all change but I'm su...</td>\n",
       "      <td>@76328 I really hope you all change but I'm su...</td>\n",
       "      <td>I really hope you all change but Im sure you ...</td>\n",
       "      <td>I really hope you all change but Im sure you w...</td>\n",
       "      <td>i really hope you all change but im sure you w...</td>\n",
       "      <td>i really hope you all change but i am sure you...</td>\n",
       "      <td>really hope change sure</td>\n",
       "      <td>realli hope chang sure</td>\n",
       "      <td>realli hope chang sure</td>\n",
       "      <td>4</td>\n",
       "      <td>22</td>\n",
       "      <td>really hope change sure</td>\n",
       "    </tr>\n",
       "    <tr>\n",
       "      <th>3</th>\n",
       "      <td>119240</td>\n",
       "      <td>VirginTrains</td>\n",
       "      <td>False</td>\n",
       "      <td>Tue Oct 10 15:16:08 +0000 2017</td>\n",
       "      <td>@105836 LiveChat is online at the moment - htt...</td>\n",
       "      <td>119241</td>\n",
       "      <td>119242.0</td>\n",
       "      <td>@105836 LiveChat is online at the moment - htt...</td>\n",
       "      <td>@105836 LiveChat is online at the moment -   o...</td>\n",
       "      <td>@105836 LiveChat is online at the moment -   o...</td>\n",
       "      <td>LiveChat is online at the moment    or contac...</td>\n",
       "      <td>LiveChat is online at the moment or contact op...</td>\n",
       "      <td>livechat is online at the moment or contact op...</td>\n",
       "      <td>livechat is online at the moment or contact op...</td>\n",
       "      <td>livechat online moment contact option request ...</td>\n",
       "      <td>livechat onlin moment contact option request c...</td>\n",
       "      <td>livechat onlin moment contact option request c...</td>\n",
       "      <td>8</td>\n",
       "      <td>54</td>\n",
       "      <td>livechat online moment contact option request ...</td>\n",
       "    </tr>\n",
       "    <tr>\n",
       "      <th>4</th>\n",
       "      <td>119241</td>\n",
       "      <td>105836</td>\n",
       "      <td>True</td>\n",
       "      <td>Tue Oct 10 15:17:21 +0000 2017</td>\n",
       "      <td>@VirginTrains see attached error message. I've...</td>\n",
       "      <td>119243</td>\n",
       "      <td>119240.0</td>\n",
       "      <td>@VirginTrains see attached error message. I've...</td>\n",
       "      <td>@VirginTrains see attached error message. I've...</td>\n",
       "      <td>@VirginTrains see attached error message. I've...</td>\n",
       "      <td>VirginTrains see attached error message Ive tr...</td>\n",
       "      <td>VirginTrains see attached error message Ive tr...</td>\n",
       "      <td>virgintrains see attached error message ive tr...</td>\n",
       "      <td>virgintrains see attached error message i have...</td>\n",
       "      <td>virgintrains see attached error message tried ...</td>\n",
       "      <td>virgintrain see attach error messag tri leav v...</td>\n",
       "      <td>virgintrain see attach error messag tri leav v...</td>\n",
       "      <td>12</td>\n",
       "      <td>75</td>\n",
       "      <td>virgintrains  attached error message tried lea...</td>\n",
       "    </tr>\n",
       "  </tbody>\n",
       "</table>\n",
       "</div>"
      ],
      "text/plain": [
       "   tweet_id     author_id  inbound                      created_at  \\\n",
       "0    119237        105834     True  Wed Oct 11 06:55:44 +0000 2017   \n",
       "1    119238  ChaseSupport    False  Wed Oct 11 13:25:49 +0000 2017   \n",
       "2    119239        105835     True  Wed Oct 11 13:00:09 +0000 2017   \n",
       "3    119240  VirginTrains    False  Tue Oct 10 15:16:08 +0000 2017   \n",
       "4    119241        105836     True  Tue Oct 10 15:17:21 +0000 2017   \n",
       "\n",
       "                                                text response_tweet_id  \\\n",
       "0  @AppleSupport causing the reply to be disregar...            119236   \n",
       "1  @105835 Your business means a lot to us. Pleas...               NaN   \n",
       "2  @76328 I really hope you all change but I'm su...            119238   \n",
       "3  @105836 LiveChat is online at the moment - htt...            119241   \n",
       "4  @VirginTrains see attached error message. I've...            119243   \n",
       "\n",
       "   in_response_to_tweet_id                                  text_html_remover  \\\n",
       "0                      NaN  @AppleSupport causing the reply to be disregar...   \n",
       "1                 119239.0  @105835 Your business means a lot to us. Pleas...   \n",
       "2                 119239.0  @76328 I really hope you all change but I'm su...   \n",
       "3                 119242.0  @105836 LiveChat is online at the moment - htt...   \n",
       "4                 119240.0  @VirginTrains see attached error message. I've...   \n",
       "\n",
       "                                    text_url_remover  \\\n",
       "0  @AppleSupport causing the reply to be disregar...   \n",
       "1  @105835 Your business means a lot to us. Pleas...   \n",
       "2  @76328 I really hope you all change but I'm su...   \n",
       "3  @105836 LiveChat is online at the moment -   o...   \n",
       "4  @VirginTrains see attached error message. I've...   \n",
       "\n",
       "                                text_remove_brackets  \\\n",
       "0  @AppleSupport causing the reply to be disregar...   \n",
       "1  @105835 Your business means a lot to us. Pleas...   \n",
       "2  @76328 I really hope you all change but I'm su...   \n",
       "3  @105836 LiveChat is online at the moment -   o...   \n",
       "4  @VirginTrains see attached error message. I've...   \n",
       "\n",
       "                                           clean_msg  \\\n",
       "0  AppleSupport causing the reply to be disregard...   \n",
       "1   Your business means a lot to us Please DM you...   \n",
       "2   I really hope you all change but Im sure you ...   \n",
       "3   LiveChat is online at the moment    or contac...   \n",
       "4  VirginTrains see attached error message Ive tr...   \n",
       "\n",
       "                                         white_space  \\\n",
       "0  AppleSupport causing the reply to be disregard...   \n",
       "1  Your business means a lot to us Please DM your...   \n",
       "2  I really hope you all change but Im sure you w...   \n",
       "3  LiveChat is online at the moment or contact op...   \n",
       "4  VirginTrains see attached error message Ive tr...   \n",
       "\n",
       "                                          text_lower  \\\n",
       "0  applesupport causing the reply to be disregard...   \n",
       "1  your business means a lot to us please dm your...   \n",
       "2  i really hope you all change but im sure you w...   \n",
       "3  livechat is online at the moment or contact op...   \n",
       "4  virgintrains see attached error message ive tr...   \n",
       "\n",
       "                                    text_contraction  \\\n",
       "0  applesupport causing the reply to be disregard...   \n",
       "1  your business means a lot to us please dm your...   \n",
       "2  i really hope you all change but i am sure you...   \n",
       "3  livechat is online at the moment or contact op...   \n",
       "4  virgintrains see attached error message i have...   \n",
       "\n",
       "                                        no_stopwords  \\\n",
       "0  applesupport causing reply disregarded tapped ...   \n",
       "1  business means lot us please dm name zip code ...   \n",
       "2                            really hope change sure   \n",
       "3  livechat online moment contact option request ...   \n",
       "4  virgintrains see attached error message tried ...   \n",
       "\n",
       "                                        text_stemmed  \\\n",
       "0  applesupport caus repli disregard tap notif ke...   \n",
       "1  busi mean lot us pleas dm name zip code addit ...   \n",
       "2                             realli hope chang sure   \n",
       "3  livechat onlin moment contact option request c...   \n",
       "4  virgintrain see attach error messag tri leav v...   \n",
       "\n",
       "                                      text_lemmatize  Sentence_length  \\\n",
       "0  applesupport caus repli disregard tap notif ke...                8   \n",
       "1  busi mean lot u plea dm name zip code addit de...               13   \n",
       "2                             realli hope chang sure                4   \n",
       "3  livechat onlin moment contact option request c...                8   \n",
       "4  virgintrain see attach error messag tri leav v...               12   \n",
       "\n",
       "   Word_length                                      nostopwords<3  \n",
       "0           57  applesupport causing reply disregarded tapped ...  \n",
       "1           61  business means   please  name  code additional...  \n",
       "2           22                            really hope change sure  \n",
       "3           54  livechat online moment contact option request ...  \n",
       "4           75  virgintrains  attached error message tried lea...  "
      ]
     },
     "execution_count": 53,
     "metadata": {},
     "output_type": "execute_result"
    }
   ],
   "source": [
    "#Reading the Data after preprocessing\n",
    "data.head()"
   ]
  },
  {
   "cell_type": "code",
   "execution_count": 54,
   "id": "d572de32",
   "metadata": {},
   "outputs": [
    {
     "name": "stderr",
     "output_type": "stream",
     "text": [
      "/home/rutvathaker/.local/lib/python3.8/site-packages/seaborn/_decorators.py:36: FutureWarning: Pass the following variable as a keyword arg: x. From version 0.12, the only valid positional argument will be `data`, and passing other arguments without an explicit keyword will result in an error or misinterpretation.\n",
      "  warnings.warn(\n"
     ]
    },
    {
     "data": {
      "text/plain": [
       "<AxesSubplot:xlabel='Sentence_length'>"
      ]
     },
     "execution_count": 54,
     "metadata": {},
     "output_type": "execute_result"
    },
    {
     "data": {
      "image/png": "[encoded data removed]",
      "text/plain": [
       "<Figure size 432x288 with 1 Axes>"
      ]
     },
     "metadata": {
      "needs_background": "light"
     },
     "output_type": "display_data"
    }
   ],
   "source": [
    "#boxplot for sentence length of tweets to look for outliers\n",
    "sns.boxplot(data['Sentence_length'])"
   ]
  },
  {
   "cell_type": "code",
   "execution_count": 55,
   "id": "9bce6e87",
   "metadata": {},
   "outputs": [
    {
     "name": "stderr",
     "output_type": "stream",
     "text": [
      "/home/rutvathaker/.local/lib/python3.8/site-packages/seaborn/_decorators.py:36: FutureWarning: Pass the following variable as a keyword arg: x. From version 0.12, the only valid positional argument will be `data`, and passing other arguments without an explicit keyword will result in an error or misinterpretation.\n",
      "  warnings.warn(\n"
     ]
    },
    {
     "data": {
      "text/plain": [
       "<AxesSubplot:xlabel='Word_length'>"
      ]
     },
     "execution_count": 55,
     "metadata": {},
     "output_type": "execute_result"
    },
    {
     "data": {
      "image/png": "[encoded data removed]",
      "text/plain": [
       "<Figure size 432x288 with 1 Axes>"
      ]
     },
     "metadata": {
      "needs_background": "light"
     },
     "output_type": "display_data"
    }
   ],
   "source": [
    "#boxplot for word length of tweets to look for outliers\n",
    "sns.boxplot(data['Word_length'])"
   ]
  },
  {
   "cell_type": "code",
   "execution_count": 56,
   "id": "92f3075c",
   "metadata": {},
   "outputs": [
    {
     "name": "stderr",
     "output_type": "stream",
     "text": [
      "/home/rutvathaker/.local/lib/python3.8/site-packages/seaborn/categorical.py:3717: UserWarning: The `factorplot` function has been renamed to `catplot`. The original name will be removed in a future release. Please update your code. Note that the default `kind` in `factorplot` (`'point'`) has changed `'strip'` in `catplot`.\n",
      "  warnings.warn(msg)\n",
      "/home/rutvathaker/.local/lib/python3.8/site-packages/seaborn/categorical.py:3723: UserWarning: The `size` parameter has been renamed to `height`; please update your code.\n",
      "  warnings.warn(msg, UserWarning)\n"
     ]
    },
    {
     "data": {
      "text/plain": [
       "<seaborn.axisgrid.FacetGrid at 0x7f3b74ef6130>"
      ]
     },
     "execution_count": 56,
     "metadata": {},
     "output_type": "execute_result"
    },
    {
     "data": {
      "image/png": "[encoded data removed]",
      "text/plain": [
       "<Figure size 720x720 with 1 Axes>"
      ]
     },
     "metadata": {
      "needs_background": "light"
     },
     "output_type": "display_data"
    }
   ],
   "source": [
    "#Camparision Plot between sentence length and word length for observing word length per sentencelength\n",
    "sns.factorplot(data=data, x='Sentence_length', y='Word_length', kind='bar', size=10)"
   ]
  },
  {
   "cell_type": "code",
   "execution_count": 57,
   "id": "76b0b2a9",
   "metadata": {},
   "outputs": [],
   "source": [
    "#Getting unique words dictionary without stopwords\n",
    "unique=[]\n",
    "for word in corpus:\n",
    "    if word not in unique:\n",
    "        unique.append(word)"
   ]
  },
  {
   "cell_type": "code",
   "execution_count": 58,
   "id": "5fa6ee9c",
   "metadata": {},
   "outputs": [
    {
     "data": {
      "text/plain": [
       "501"
      ]
     },
     "execution_count": 58,
     "metadata": {},
     "output_type": "execute_result"
    }
   ],
   "source": [
    "#Length of unique words\n",
    "len(unique)"
   ]
  },
  {
   "cell_type": "code",
   "execution_count": 59,
   "id": "bdb92306",
   "metadata": {},
   "outputs": [
    {
     "data": {
      "image/png": "[encoded data removed]",
      "text/plain": [
       "<Figure size 432x288 with 1 Axes>"
      ]
     },
     "metadata": {
      "needs_background": "light"
     },
     "output_type": "display_data"
    }
   ],
   "source": [
    "#WordCloud of the data\n",
    "word=\" \".join(word for word in (data['no_stopwords'].values))\n",
    "WC = WordCloud(max_font_size=50, max_words=30, background_color=\"White\").generate(word)\n",
    "plt.imshow(WC, interpolation = 'bilinear') \n",
    "plt.axis('off')\n",
    "plt.show()\n"
   ]
  },
  {
   "cell_type": "code",
   "execution_count": 60,
   "id": "0ede004a",
   "metadata": {},
   "outputs": [
    {
     "data": {
      "image/png": "[encoded data removed]",
      "text/plain": [
       "<Figure size 432x288 with 1 Axes>"
      ]
     },
     "metadata": {
      "needs_background": "light"
     },
     "output_type": "display_data"
    }
   ],
   "source": [
    "#WordCloud of the data after removing 3 length words from the data\n",
    "word=\" \".join(word for word in (data['nostopwords<3'].values))\n",
    "WC = WordCloud(max_font_size=50, max_words=30, background_color=\"White\").generate(word)\n",
    "plt.imshow(WC, interpolation = 'bilinear') \n",
    "plt.axis('off')\n",
    "plt.show()\n"
   ]
  },
  {
   "cell_type": "markdown",
   "id": "095650d7",
   "metadata": {},
   "source": [
    "# POS using Corpus"
   ]
  },
  {
   "cell_type": "code",
   "execution_count": 61,
   "id": "1f10ffd5",
   "metadata": {},
   "outputs": [],
   "source": [
    "#Loading package from spacy\n",
    "nlp = spacy.load('en_core_web_sm')"
   ]
  },
  {
   "cell_type": "code",
   "execution_count": 62,
   "id": "edf774e3",
   "metadata": {},
   "outputs": [],
   "source": [
    "#Defining the corpus document\n",
    "document = nlp(str(corpus))"
   ]
  },
  {
   "cell_type": "code",
   "execution_count": 63,
   "id": "055a3fad",
   "metadata": {},
   "outputs": [
    {
     "data": {
      "text/html": [
       "<div>\n",
       "<style scoped>\n",
       "    .dataframe tbody tr th:only-of-type {\n",
       "        vertical-align: middle;\n",
       "    }\n",
       "\n",
       "    .dataframe tbody tr th {\n",
       "        vertical-align: top;\n",
       "    }\n",
       "\n",
       "    .dataframe thead th {\n",
       "        text-align: right;\n",
       "    }\n",
       "</style>\n",
       "<table border=\"1\" class=\"dataframe\">\n",
       "  <thead>\n",
       "    <tr style=\"text-align: right;\">\n",
       "      <th></th>\n",
       "      <th>adj</th>\n",
       "      <th>Acount</th>\n",
       "    </tr>\n",
       "  </thead>\n",
       "  <tbody>\n",
       "    <tr>\n",
       "      <th>0</th>\n",
       "      <td>back</td>\n",
       "      <td>6</td>\n",
       "    </tr>\n",
       "    <tr>\n",
       "      <th>1</th>\n",
       "      <td>happy</td>\n",
       "      <td>6</td>\n",
       "    </tr>\n",
       "    <tr>\n",
       "      <th>2</th>\n",
       "      <td>sorry</td>\n",
       "      <td>5</td>\n",
       "    </tr>\n",
       "    <tr>\n",
       "      <th>3</th>\n",
       "      <td>full</td>\n",
       "      <td>4</td>\n",
       "    </tr>\n",
       "    <tr>\n",
       "      <th>4</th>\n",
       "      <td>latest</td>\n",
       "      <td>3</td>\n",
       "    </tr>\n",
       "    <tr>\n",
       "      <th>...</th>\n",
       "      <td>...</td>\n",
       "      <td>...</td>\n",
       "    </tr>\n",
       "    <tr>\n",
       "      <th>71</th>\n",
       "      <td>huge</td>\n",
       "      <td>1</td>\n",
       "    </tr>\n",
       "    <tr>\n",
       "      <th>72</th>\n",
       "      <td>keen</td>\n",
       "      <td>1</td>\n",
       "    </tr>\n",
       "    <tr>\n",
       "      <th>73</th>\n",
       "      <td>thin</td>\n",
       "      <td>1</td>\n",
       "    </tr>\n",
       "    <tr>\n",
       "      <th>74</th>\n",
       "      <td>green</td>\n",
       "      <td>1</td>\n",
       "    </tr>\n",
       "    <tr>\n",
       "      <th>75</th>\n",
       "      <td>browser</td>\n",
       "      <td>1</td>\n",
       "    </tr>\n",
       "  </tbody>\n",
       "</table>\n",
       "<p>76 rows × 2 columns</p>\n",
       "</div>"
      ],
      "text/plain": [
       "        adj  Acount\n",
       "0      back       6\n",
       "1     happy       6\n",
       "2     sorry       5\n",
       "3      full       4\n",
       "4    latest       3\n",
       "..      ...     ...\n",
       "71     huge       1\n",
       "72     keen       1\n",
       "73     thin       1\n",
       "74    green       1\n",
       "75  browser       1\n",
       "\n",
       "[76 rows x 2 columns]"
      ]
     },
     "execution_count": 63,
     "metadata": {},
     "output_type": "execute_result"
    }
   ],
   "source": [
    "#Using document getting Adjectives and its Count\n",
    "adjs = []\n",
    "for token in document:\n",
    "    if token.pos_ == 'ADJ':\n",
    "        adjs.append(token.text)\n",
    "\n",
    "#Using counter,getting the most common adjective words and its count from the document\n",
    "adjs_tally = Counter(adjs)\n",
    "df = pd.DataFrame(adjs_tally.most_common(), columns=['adj', 'Acount'])\n",
    "df"
   ]
  },
  {
   "cell_type": "code",
   "execution_count": 64,
   "id": "ab70c76a",
   "metadata": {},
   "outputs": [
    {
     "data": {
      "text/html": [
       "<div>\n",
       "<style scoped>\n",
       "    .dataframe tbody tr th:only-of-type {\n",
       "        vertical-align: middle;\n",
       "    }\n",
       "\n",
       "    .dataframe tbody tr th {\n",
       "        vertical-align: top;\n",
       "    }\n",
       "\n",
       "    .dataframe thead th {\n",
       "        text-align: right;\n",
       "    }\n",
       "</style>\n",
       "<table border=\"1\" class=\"dataframe\">\n",
       "  <thead>\n",
       "    <tr style=\"text-align: right;\">\n",
       "      <th></th>\n",
       "      <th>noun</th>\n",
       "      <th>Ncount</th>\n",
       "    </tr>\n",
       "  </thead>\n",
       "  <tbody>\n",
       "    <tr>\n",
       "      <th>0</th>\n",
       "      <td>'</td>\n",
       "      <td>21</td>\n",
       "    </tr>\n",
       "    <tr>\n",
       "      <th>1</th>\n",
       "      <td>dm</td>\n",
       "      <td>19</td>\n",
       "    </tr>\n",
       "    <tr>\n",
       "      <th>2</th>\n",
       "      <td>help</td>\n",
       "      <td>18</td>\n",
       "    </tr>\n",
       "    <tr>\n",
       "      <th>3</th>\n",
       "      <td>thanks</td>\n",
       "      <td>13</td>\n",
       "    </tr>\n",
       "    <tr>\n",
       "      <th>4</th>\n",
       "      <td>applesupport</td>\n",
       "      <td>11</td>\n",
       "    </tr>\n",
       "    <tr>\n",
       "      <th>...</th>\n",
       "      <td>...</td>\n",
       "      <td>...</td>\n",
       "    </tr>\n",
       "    <tr>\n",
       "      <th>197</th>\n",
       "      <td>layout</td>\n",
       "      <td>1</td>\n",
       "    </tr>\n",
       "    <tr>\n",
       "      <th>198</th>\n",
       "      <td>item</td>\n",
       "      <td>1</td>\n",
       "    </tr>\n",
       "    <tr>\n",
       "      <th>199</th>\n",
       "      <td>slowdown</td>\n",
       "      <td>1</td>\n",
       "    </tr>\n",
       "    <tr>\n",
       "      <th>200</th>\n",
       "      <td>line</td>\n",
       "      <td>1</td>\n",
       "    </tr>\n",
       "    <tr>\n",
       "      <th>201</th>\n",
       "      <td>log</td>\n",
       "      <td>1</td>\n",
       "    </tr>\n",
       "  </tbody>\n",
       "</table>\n",
       "<p>202 rows × 2 columns</p>\n",
       "</div>"
      ],
      "text/plain": [
       "             noun  Ncount\n",
       "0               '      21\n",
       "1              dm      19\n",
       "2            help      18\n",
       "3          thanks      13\n",
       "4    applesupport      11\n",
       "..            ...     ...\n",
       "197        layout       1\n",
       "198          item       1\n",
       "199      slowdown       1\n",
       "200          line       1\n",
       "201           log       1\n",
       "\n",
       "[202 rows x 2 columns]"
      ]
     },
     "execution_count": 64,
     "metadata": {},
     "output_type": "execute_result"
    }
   ],
   "source": [
    "#Using document getting Noun and its Count\n",
    "nouns = []\n",
    "for token in document:\n",
    "    if token.pos_ == 'NOUN':\n",
    "        nouns.append(token.text)\n",
    "\n",
    "#Using counter,getting the most common noun words and its count from the document\n",
    "nouns_tally = Counter(nouns)\n",
    "\n",
    "dfs = pd.DataFrame(nouns_tally.most_common(),columns=['noun', 'Ncount'])\n",
    "dfs"
   ]
  },
  {
   "cell_type": "code",
   "execution_count": 65,
   "id": "600b76cd",
   "metadata": {},
   "outputs": [
    {
     "data": {
      "text/html": [
       "<div>\n",
       "<style scoped>\n",
       "    .dataframe tbody tr th:only-of-type {\n",
       "        vertical-align: middle;\n",
       "    }\n",
       "\n",
       "    .dataframe tbody tr th {\n",
       "        vertical-align: top;\n",
       "    }\n",
       "\n",
       "    .dataframe thead th {\n",
       "        text-align: right;\n",
       "    }\n",
       "</style>\n",
       "<table border=\"1\" class=\"dataframe\">\n",
       "  <thead>\n",
       "    <tr style=\"text-align: right;\">\n",
       "      <th></th>\n",
       "      <th>verb</th>\n",
       "      <th>Vcount</th>\n",
       "    </tr>\n",
       "  </thead>\n",
       "  <tbody>\n",
       "    <tr>\n",
       "      <th>0</th>\n",
       "      <td>let</td>\n",
       "      <td>8</td>\n",
       "    </tr>\n",
       "    <tr>\n",
       "      <th>1</th>\n",
       "      <td>get</td>\n",
       "      <td>8</td>\n",
       "    </tr>\n",
       "    <tr>\n",
       "      <th>2</th>\n",
       "      <td>look</td>\n",
       "      <td>7</td>\n",
       "    </tr>\n",
       "    <tr>\n",
       "      <th>3</th>\n",
       "      <td>tried</td>\n",
       "      <td>6</td>\n",
       "    </tr>\n",
       "    <tr>\n",
       "      <th>4</th>\n",
       "      <td>send</td>\n",
       "      <td>6</td>\n",
       "    </tr>\n",
       "    <tr>\n",
       "      <th>...</th>\n",
       "      <td>...</td>\n",
       "      <td>...</td>\n",
       "    </tr>\n",
       "    <tr>\n",
       "      <th>155</th>\n",
       "      <td>responding</td>\n",
       "      <td>1</td>\n",
       "    </tr>\n",
       "    <tr>\n",
       "      <th>156</th>\n",
       "      <td>finding</td>\n",
       "      <td>1</td>\n",
       "    </tr>\n",
       "    <tr>\n",
       "      <th>157</th>\n",
       "      <td>removing</td>\n",
       "      <td>1</td>\n",
       "    </tr>\n",
       "    <tr>\n",
       "      <th>158</th>\n",
       "      <td>faves</td>\n",
       "      <td>1</td>\n",
       "    </tr>\n",
       "    <tr>\n",
       "      <th>159</th>\n",
       "      <td>including</td>\n",
       "      <td>1</td>\n",
       "    </tr>\n",
       "  </tbody>\n",
       "</table>\n",
       "<p>160 rows × 2 columns</p>\n",
       "</div>"
      ],
      "text/plain": [
       "           verb  Vcount\n",
       "0           let       8\n",
       "1           get       8\n",
       "2          look       7\n",
       "3         tried       6\n",
       "4          send       6\n",
       "..          ...     ...\n",
       "155  responding       1\n",
       "156     finding       1\n",
       "157    removing       1\n",
       "158       faves       1\n",
       "159   including       1\n",
       "\n",
       "[160 rows x 2 columns]"
      ]
     },
     "execution_count": 65,
     "metadata": {},
     "output_type": "execute_result"
    }
   ],
   "source": [
    "#Using document getting Verb and its Count\n",
    "verbs = [token.text for token in document if token.pos_ == 'VERB']\n",
    "\n",
    "\n",
    "#Using counter,getting the most common verb words and its count from the document\n",
    "verbs_tally = Counter(verbs)\n",
    "\n",
    "dfv = pd.DataFrame(verbs_tally.most_common(), columns=['verb', 'Vcount'])\n",
    "dfv"
   ]
  },
  {
   "cell_type": "code",
   "execution_count": 66,
   "id": "fedcf1ad",
   "metadata": {
    "scrolled": true
   },
   "outputs": [
    {
     "data": {
      "text/html": [
       "<div>\n",
       "<style scoped>\n",
       "    .dataframe tbody tr th:only-of-type {\n",
       "        vertical-align: middle;\n",
       "    }\n",
       "\n",
       "    .dataframe tbody tr th {\n",
       "        vertical-align: top;\n",
       "    }\n",
       "\n",
       "    .dataframe thead th {\n",
       "        text-align: right;\n",
       "    }\n",
       "</style>\n",
       "<table border=\"1\" class=\"dataframe\">\n",
       "  <thead>\n",
       "    <tr style=\"text-align: right;\">\n",
       "      <th></th>\n",
       "      <th>adverb</th>\n",
       "      <th>ADcount</th>\n",
       "    </tr>\n",
       "  </thead>\n",
       "  <tbody>\n",
       "    <tr>\n",
       "      <th>0</th>\n",
       "      <td>still</td>\n",
       "      <td>4</td>\n",
       "    </tr>\n",
       "    <tr>\n",
       "      <th>1</th>\n",
       "      <td>always</td>\n",
       "      <td>3</td>\n",
       "    </tr>\n",
       "    <tr>\n",
       "      <th>2</th>\n",
       "      <td>together</td>\n",
       "      <td>3</td>\n",
       "    </tr>\n",
       "    <tr>\n",
       "      <th>3</th>\n",
       "      <td>away</td>\n",
       "      <td>2</td>\n",
       "    </tr>\n",
       "    <tr>\n",
       "      <th>4</th>\n",
       "      <td>frequently</td>\n",
       "      <td>2</td>\n",
       "    </tr>\n",
       "    <tr>\n",
       "      <th>5</th>\n",
       "      <td>immediately</td>\n",
       "      <td>2</td>\n",
       "    </tr>\n",
       "    <tr>\n",
       "      <th>6</th>\n",
       "      <td>really</td>\n",
       "      <td>1</td>\n",
       "    </tr>\n",
       "    <tr>\n",
       "      <th>7</th>\n",
       "      <td>shortly</td>\n",
       "      <td>1</td>\n",
       "    </tr>\n",
       "    <tr>\n",
       "      <th>8</th>\n",
       "      <td>suddenly</td>\n",
       "      <td>1</td>\n",
       "    </tr>\n",
       "    <tr>\n",
       "      <th>9</th>\n",
       "      <td>also</td>\n",
       "      <td>1</td>\n",
       "    </tr>\n",
       "    <tr>\n",
       "      <th>10</th>\n",
       "      <td>possibly</td>\n",
       "      <td>1</td>\n",
       "    </tr>\n",
       "    <tr>\n",
       "      <th>11</th>\n",
       "      <td>else</td>\n",
       "      <td>1</td>\n",
       "    </tr>\n",
       "    <tr>\n",
       "      <th>12</th>\n",
       "      <td>constantly</td>\n",
       "      <td>1</td>\n",
       "    </tr>\n",
       "    <tr>\n",
       "      <th>13</th>\n",
       "      <td>ago</td>\n",
       "      <td>1</td>\n",
       "    </tr>\n",
       "    <tr>\n",
       "      <th>14</th>\n",
       "      <td>virtually</td>\n",
       "      <td>1</td>\n",
       "    </tr>\n",
       "    <tr>\n",
       "      <th>15</th>\n",
       "      <td>out</td>\n",
       "      <td>1</td>\n",
       "    </tr>\n",
       "    <tr>\n",
       "      <th>16</th>\n",
       "      <td>even</td>\n",
       "      <td>1</td>\n",
       "    </tr>\n",
       "    <tr>\n",
       "      <th>17</th>\n",
       "      <td>almost</td>\n",
       "      <td>1</td>\n",
       "    </tr>\n",
       "    <tr>\n",
       "      <th>18</th>\n",
       "      <td>hopefully</td>\n",
       "      <td>1</td>\n",
       "    </tr>\n",
       "    <tr>\n",
       "      <th>19</th>\n",
       "      <td>soon</td>\n",
       "      <td>1</td>\n",
       "    </tr>\n",
       "    <tr>\n",
       "      <th>20</th>\n",
       "      <td>maybe</td>\n",
       "      <td>1</td>\n",
       "    </tr>\n",
       "    <tr>\n",
       "      <th>21</th>\n",
       "      <td>properly</td>\n",
       "      <td>1</td>\n",
       "    </tr>\n",
       "    <tr>\n",
       "      <th>22</th>\n",
       "      <td>whatsoever</td>\n",
       "      <td>1</td>\n",
       "    </tr>\n",
       "    <tr>\n",
       "      <th>23</th>\n",
       "      <td>slightly</td>\n",
       "      <td>1</td>\n",
       "    </tr>\n",
       "    <tr>\n",
       "      <th>24</th>\n",
       "      <td>currently</td>\n",
       "      <td>1</td>\n",
       "    </tr>\n",
       "  </tbody>\n",
       "</table>\n",
       "</div>"
      ],
      "text/plain": [
       "         adverb  ADcount\n",
       "0         still        4\n",
       "1        always        3\n",
       "2      together        3\n",
       "3          away        2\n",
       "4    frequently        2\n",
       "5   immediately        2\n",
       "6        really        1\n",
       "7       shortly        1\n",
       "8      suddenly        1\n",
       "9          also        1\n",
       "10     possibly        1\n",
       "11         else        1\n",
       "12   constantly        1\n",
       "13          ago        1\n",
       "14    virtually        1\n",
       "15          out        1\n",
       "16         even        1\n",
       "17       almost        1\n",
       "18    hopefully        1\n",
       "19         soon        1\n",
       "20        maybe        1\n",
       "21     properly        1\n",
       "22   whatsoever        1\n",
       "23     slightly        1\n",
       "24    currently        1"
      ]
     },
     "execution_count": 66,
     "metadata": {},
     "output_type": "execute_result"
    }
   ],
   "source": [
    "#Using document getting Adverb and its Count\n",
    "adverbs = []\n",
    "for token in document:\n",
    "    if token.pos_ == 'ADV':\n",
    "        adverbs.append(token.text)\n",
    "\n",
    "#Using counter,getting the most common adverb words and its count from the document\n",
    "adverbs_tally = Counter(adverbs)\n",
    "\n",
    "dfa = pd.DataFrame(adverbs_tally.most_common(), columns=['adverb', 'ADcount'])\n",
    "dfa \n"
   ]
  },
  {
   "cell_type": "code",
   "execution_count": 67,
   "id": "cc6bcced",
   "metadata": {},
   "outputs": [
    {
     "data": {
      "text/html": [
       "<div>\n",
       "<style scoped>\n",
       "    .dataframe tbody tr th:only-of-type {\n",
       "        vertical-align: middle;\n",
       "    }\n",
       "\n",
       "    .dataframe tbody tr th {\n",
       "        vertical-align: top;\n",
       "    }\n",
       "\n",
       "    .dataframe thead th {\n",
       "        text-align: right;\n",
       "    }\n",
       "</style>\n",
       "<table border=\"1\" class=\"dataframe\">\n",
       "  <thead>\n",
       "    <tr style=\"text-align: right;\">\n",
       "      <th></th>\n",
       "      <th>adj</th>\n",
       "      <th>Acount</th>\n",
       "      <th>noun</th>\n",
       "      <th>Ncount</th>\n",
       "      <th>verb</th>\n",
       "      <th>Vcount</th>\n",
       "      <th>adverb</th>\n",
       "      <th>ADcount</th>\n",
       "    </tr>\n",
       "  </thead>\n",
       "  <tbody>\n",
       "    <tr>\n",
       "      <th>0</th>\n",
       "      <td>back</td>\n",
       "      <td>6</td>\n",
       "      <td>'</td>\n",
       "      <td>21</td>\n",
       "      <td>let</td>\n",
       "      <td>8</td>\n",
       "      <td>still</td>\n",
       "      <td>4.0</td>\n",
       "    </tr>\n",
       "    <tr>\n",
       "      <th>1</th>\n",
       "      <td>happy</td>\n",
       "      <td>6</td>\n",
       "      <td>dm</td>\n",
       "      <td>19</td>\n",
       "      <td>get</td>\n",
       "      <td>8</td>\n",
       "      <td>always</td>\n",
       "      <td>3.0</td>\n",
       "    </tr>\n",
       "    <tr>\n",
       "      <th>2</th>\n",
       "      <td>sorry</td>\n",
       "      <td>5</td>\n",
       "      <td>help</td>\n",
       "      <td>18</td>\n",
       "      <td>look</td>\n",
       "      <td>7</td>\n",
       "      <td>together</td>\n",
       "      <td>3.0</td>\n",
       "    </tr>\n",
       "    <tr>\n",
       "      <th>3</th>\n",
       "      <td>full</td>\n",
       "      <td>4</td>\n",
       "      <td>thanks</td>\n",
       "      <td>13</td>\n",
       "      <td>tried</td>\n",
       "      <td>6</td>\n",
       "      <td>away</td>\n",
       "      <td>2.0</td>\n",
       "    </tr>\n",
       "    <tr>\n",
       "      <th>4</th>\n",
       "      <td>latest</td>\n",
       "      <td>3</td>\n",
       "      <td>applesupport</td>\n",
       "      <td>11</td>\n",
       "      <td>send</td>\n",
       "      <td>6</td>\n",
       "      <td>frequently</td>\n",
       "      <td>2.0</td>\n",
       "    </tr>\n",
       "  </tbody>\n",
       "</table>\n",
       "</div>"
      ],
      "text/plain": [
       "      adj  Acount          noun  Ncount   verb  Vcount      adverb  ADcount\n",
       "0    back       6             '      21    let       8       still      4.0\n",
       "1   happy       6            dm      19    get       8      always      3.0\n",
       "2   sorry       5          help      18   look       7    together      3.0\n",
       "3    full       4        thanks      13  tried       6        away      2.0\n",
       "4  latest       3  applesupport      11   send       6  frequently      2.0"
      ]
     },
     "execution_count": 67,
     "metadata": {},
     "output_type": "execute_result"
    }
   ],
   "source": [
    "#Creating single DataFrame of Adjective, Noun, Verb & Adverb with its counts\n",
    "a = dfs[[\"noun\", \"Ncount\"]]\n",
    "b = df.join(a)\n",
    "c = dfv[['verb', 'Vcount']]\n",
    "d = b.join(c)\n",
    "e = dfa[['adverb', 'ADcount']]\n",
    "dt = d.join(e)\n",
    "dt.head()"
   ]
  },
  {
   "cell_type": "code",
   "execution_count": 68,
   "id": "6bedabef",
   "metadata": {},
   "outputs": [
    {
     "data": {
      "image/png": "[encoded data removed]",
      "text/plain": [
       "<Figure size 720x720 with 1 Axes>"
      ]
     },
     "metadata": {
      "needs_background": "light"
     },
     "output_type": "display_data"
    }
   ],
   "source": [
    "#Plot for Adjective and its Count\n",
    "fig = plt.figure(figsize=(10,10))\n",
    "sns.barplot(x=dt.adj[:10], y=dt.Acount)\n",
    "plt.show()"
   ]
  },
  {
   "cell_type": "code",
   "execution_count": 69,
   "id": "caa05719",
   "metadata": {},
   "outputs": [
    {
     "data": {
      "image/png": "[encoded data removed]",
      "text/plain": [
       "<Figure size 720x720 with 1 Axes>"
      ]
     },
     "metadata": {
      "needs_background": "light"
     },
     "output_type": "display_data"
    }
   ],
   "source": [
    "#Plot for Noun & its Count\n",
    "fig = plt.figure(figsize=(10,10))\n",
    "sns.barplot(x=dt.noun[:10], y=dt.Ncount)\n",
    "plt.show()"
   ]
  },
  {
   "cell_type": "code",
   "execution_count": 70,
   "id": "7bfb3772",
   "metadata": {},
   "outputs": [
    {
     "data": {
      "image/png": "[encoded data removed]",
      "text/plain": [
       "<Figure size 720x720 with 1 Axes>"
      ]
     },
     "metadata": {
      "needs_background": "light"
     },
     "output_type": "display_data"
    }
   ],
   "source": [
    "#Plot for Verb & its Count\n",
    "fig = plt.figure(figsize=(10,10))\n",
    "sns.barplot(x=dt.verb[:10], y=dt.Vcount)\n",
    "plt.show()"
   ]
  },
  {
   "cell_type": "code",
   "execution_count": 71,
   "id": "5a90eeae",
   "metadata": {},
   "outputs": [
    {
     "data": {
      "image/png": "[encoded data removed]",
      "text/plain": [
       "<Figure size 720x720 with 1 Axes>"
      ]
     },
     "metadata": {
      "needs_background": "light"
     },
     "output_type": "display_data"
    }
   ],
   "source": [
    "#Plot for Adverb & its Count\n",
    "fig = plt.figure(figsize=(10,10))\n",
    "sns.barplot(x=dt.adverb[:10], y=dt.ADcount)\n",
    "plt.show()"
   ]
  },
  {
   "cell_type": "code",
   "execution_count": 72,
   "id": "265aff78",
   "metadata": {},
   "outputs": [
    {
     "data": {
      "image/png": "[encoded data removed]",
      "text/plain": [
       "<Figure size 432x288 with 1 Axes>"
      ]
     },
     "metadata": {
      "needs_background": "light"
     },
     "output_type": "display_data"
    }
   ],
   "source": [
    "#WordCloud of Adjectives\n",
    "word=\" \".join(word for word in (dt['adj'].values))\n",
    "wc = WordCloud(max_font_size=50, max_words=30, background_color=\"Black\").generate(word)\n",
    "plt.imshow(wc, interpolation = 'bilinear') \n",
    "plt.axis('off')\n",
    "plt.show()\n"
   ]
  },
  {
   "cell_type": "code",
   "execution_count": 73,
   "id": "ea35207f",
   "metadata": {},
   "outputs": [
    {
     "data": {
      "image/png": "[encoded data removed]",
      "text/plain": [
       "<Figure size 432x288 with 1 Axes>"
      ]
     },
     "metadata": {
      "needs_background": "light"
     },
     "output_type": "display_data"
    }
   ],
   "source": [
    "#WordCloud of Nouns\n",
    "word=\" \".join(word for word in (dt['noun'].values))\n",
    "WC = WordCloud(max_font_size=50, max_words=30, background_color=\"Black\").generate(word)\n",
    "plt.imshow(WC, interpolation = 'bilinear') \n",
    "plt.axis('off')\n",
    "plt.show()"
   ]
  },
  {
   "cell_type": "code",
   "execution_count": 74,
   "id": "f0db1566",
   "metadata": {},
   "outputs": [
    {
     "data": {
      "image/png": "[encoded data removed]",
      "text/plain": [
       "<Figure size 432x288 with 1 Axes>"
      ]
     },
     "metadata": {
      "needs_background": "light"
     },
     "output_type": "display_data"
    }
   ],
   "source": [
    "#WordCloud of Verbs\n",
    "word=\" \".join(word for word in (dt['verb'].values))\n",
    "WC = WordCloud(max_font_size=50, max_words=30, background_color=\"Black\").generate(word)\n",
    "plt.imshow(WC, interpolation = 'bilinear') \n",
    "plt.axis('off')\n",
    "plt.show()\n"
   ]
  },
  {
   "cell_type": "code",
   "execution_count": 75,
   "id": "16dff755",
   "metadata": {},
   "outputs": [
    {
     "data": {
      "image/png": "[encoded data removed]",
      "text/plain": [
       "<Figure size 432x288 with 1 Axes>"
      ]
     },
     "metadata": {
      "needs_background": "light"
     },
     "output_type": "display_data"
    }
   ],
   "source": [
    "#WordCloud of Adverbs\n",
    "word=\" \".join(word for word in (dfa['adverb'].values))\n",
    "WC = WordCloud(max_font_size=50, max_words=30, background_color=\"Black\").generate(word)\n",
    "plt.imshow(WC, interpolation = 'bilinear') \n",
    "plt.axis('off')\n",
    "plt.show()\n"
   ]
  },
  {
   "cell_type": "code",
   "execution_count": 76,
   "id": "6cb4b98d",
   "metadata": {},
   "outputs": [
    {
     "data": {
      "text/html": [
       "<div>\n",
       "<style scoped>\n",
       "    .dataframe tbody tr th:only-of-type {\n",
       "        vertical-align: middle;\n",
       "    }\n",
       "\n",
       "    .dataframe tbody tr th {\n",
       "        vertical-align: top;\n",
       "    }\n",
       "\n",
       "    .dataframe thead th {\n",
       "        text-align: right;\n",
       "    }\n",
       "</style>\n",
       "<table border=\"1\" class=\"dataframe\">\n",
       "  <thead>\n",
       "    <tr style=\"text-align: right;\">\n",
       "      <th></th>\n",
       "      <th>Acount</th>\n",
       "      <th>Ncount</th>\n",
       "      <th>Vcount</th>\n",
       "      <th>ADcount</th>\n",
       "    </tr>\n",
       "  </thead>\n",
       "  <tbody>\n",
       "    <tr>\n",
       "      <th>0</th>\n",
       "      <td>6</td>\n",
       "      <td>21</td>\n",
       "      <td>8</td>\n",
       "      <td>4.0</td>\n",
       "    </tr>\n",
       "    <tr>\n",
       "      <th>1</th>\n",
       "      <td>6</td>\n",
       "      <td>19</td>\n",
       "      <td>8</td>\n",
       "      <td>3.0</td>\n",
       "    </tr>\n",
       "    <tr>\n",
       "      <th>2</th>\n",
       "      <td>5</td>\n",
       "      <td>18</td>\n",
       "      <td>7</td>\n",
       "      <td>3.0</td>\n",
       "    </tr>\n",
       "    <tr>\n",
       "      <th>3</th>\n",
       "      <td>4</td>\n",
       "      <td>13</td>\n",
       "      <td>6</td>\n",
       "      <td>2.0</td>\n",
       "    </tr>\n",
       "    <tr>\n",
       "      <th>4</th>\n",
       "      <td>3</td>\n",
       "      <td>11</td>\n",
       "      <td>6</td>\n",
       "      <td>2.0</td>\n",
       "    </tr>\n",
       "    <tr>\n",
       "      <th>5</th>\n",
       "      <td>3</td>\n",
       "      <td>9</td>\n",
       "      <td>6</td>\n",
       "      <td>2.0</td>\n",
       "    </tr>\n",
       "    <tr>\n",
       "      <th>6</th>\n",
       "      <td>2</td>\n",
       "      <td>9</td>\n",
       "      <td>6</td>\n",
       "      <td>1.0</td>\n",
       "    </tr>\n",
       "    <tr>\n",
       "      <th>7</th>\n",
       "      <td>2</td>\n",
       "      <td>8</td>\n",
       "      <td>5</td>\n",
       "      <td>1.0</td>\n",
       "    </tr>\n",
       "    <tr>\n",
       "      <th>8</th>\n",
       "      <td>2</td>\n",
       "      <td>8</td>\n",
       "      <td>5</td>\n",
       "      <td>1.0</td>\n",
       "    </tr>\n",
       "    <tr>\n",
       "      <th>9</th>\n",
       "      <td>2</td>\n",
       "      <td>7</td>\n",
       "      <td>4</td>\n",
       "      <td>1.0</td>\n",
       "    </tr>\n",
       "    <tr>\n",
       "      <th>10</th>\n",
       "      <td>2</td>\n",
       "      <td>6</td>\n",
       "      <td>4</td>\n",
       "      <td>1.0</td>\n",
       "    </tr>\n",
       "    <tr>\n",
       "      <th>11</th>\n",
       "      <td>2</td>\n",
       "      <td>5</td>\n",
       "      <td>4</td>\n",
       "      <td>1.0</td>\n",
       "    </tr>\n",
       "    <tr>\n",
       "      <th>12</th>\n",
       "      <td>2</td>\n",
       "      <td>5</td>\n",
       "      <td>3</td>\n",
       "      <td>1.0</td>\n",
       "    </tr>\n",
       "    <tr>\n",
       "      <th>13</th>\n",
       "      <td>2</td>\n",
       "      <td>5</td>\n",
       "      <td>3</td>\n",
       "      <td>1.0</td>\n",
       "    </tr>\n",
       "    <tr>\n",
       "      <th>14</th>\n",
       "      <td>2</td>\n",
       "      <td>4</td>\n",
       "      <td>3</td>\n",
       "      <td>1.0</td>\n",
       "    </tr>\n",
       "  </tbody>\n",
       "</table>\n",
       "</div>"
      ],
      "text/plain": [
       "    Acount  Ncount  Vcount  ADcount\n",
       "0        6      21       8      4.0\n",
       "1        6      19       8      3.0\n",
       "2        5      18       7      3.0\n",
       "3        4      13       6      2.0\n",
       "4        3      11       6      2.0\n",
       "5        3       9       6      2.0\n",
       "6        2       9       6      1.0\n",
       "7        2       8       5      1.0\n",
       "8        2       8       5      1.0\n",
       "9        2       7       4      1.0\n",
       "10       2       6       4      1.0\n",
       "11       2       5       4      1.0\n",
       "12       2       5       3      1.0\n",
       "13       2       5       3      1.0\n",
       "14       2       4       3      1.0"
      ]
     },
     "execution_count": 76,
     "metadata": {},
     "output_type": "execute_result"
    }
   ],
   "source": [
    "#Plotting DataFrame of Adjective,Noun,Verb and Adverbs Counts of top 15 words\n",
    "plotdt = pd.DataFrame(data = dt, columns=['Acount', 'Ncount', 'Vcount', 'ADcount'])\n",
    "plotdt[:15]"
   ]
  },
  {
   "cell_type": "code",
   "execution_count": 77,
   "id": "04b6087c",
   "metadata": {},
   "outputs": [
    {
     "data": {
      "text/plain": [
       "<AxesSubplot:>"
      ]
     },
     "execution_count": 77,
     "metadata": {},
     "output_type": "execute_result"
    },
    {
     "data": {
      "image/png": "[encoded data removed]",
      "text/plain": [
       "<Figure size 432x288 with 1 Axes>"
      ]
     },
     "metadata": {
      "needs_background": "light"
     },
     "output_type": "display_data"
    }
   ],
   "source": [
    "#Plotting BarPlot for the Comparision between Adjective, Noun, Verb and Adverb with top 15 words\n",
    "plotdt[:15].plot(kind='bar', stacked = True)"
   ]
  }
 ],
 "metadata": {
  "kernelspec": {
   "display_name": "Python 3 (ipykernel)",
   "language": "python",
   "name": "python3"
  },
  "language_info": {
   "codemirror_mode": {
    "name": "ipython",
    "version": 3
   },
   "file_extension": ".py",
   "mimetype": "text/x-python",
   "name": "python",
   "nbconvert_exporter": "python",
   "pygments_lexer": "ipython3",
   "version": "3.8.10"
  }
 },
 "nbformat": 4,
 "nbformat_minor": 5
}
